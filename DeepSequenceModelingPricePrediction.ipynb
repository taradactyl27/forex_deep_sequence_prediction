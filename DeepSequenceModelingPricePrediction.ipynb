{
  "nbformat": 4,
  "nbformat_minor": 0,
  "metadata": {
    "colab": {
      "name": "DataMiningFinalProject.ipynb",
      "provenance": [],
      "collapsed_sections": [
        "xFTwf3bizfpb",
        "yBDiJJ-uzxgJ",
        "w_AUje66z5KY",
        "bwo9CQo_lDUr",
        "VZgRkoSogHpB",
        "WUTe7ov6iVHy",
        "sN6x535SmIAh",
        "zmmcw4nLlv9p",
        "Ihn3u5ajl4CS",
        "SG6Fp_CDlA7H",
        "fVNj5RhClZOW",
        "G488IvsOlsVw",
        "Dz-D1fn_nUCr",
        "CE_1_DJtn14Z",
        "YsPMA-mcoOrm"
      ]
    },
    "kernelspec": {
      "name": "python3",
      "display_name": "Python 3"
    },
    "language_info": {
      "name": "python"
    },
    "accelerator": "GPU"
  },
  "cells": [
    {
      "cell_type": "markdown",
      "metadata": {
        "id": "gWng0TQrnkIx"
      },
      "source": [
        " <html>\n",
        "<head><center>\n",
        "<h1>Predicting Forex Data Using Recurrent Neural Network Deep Sequence Modeling </b></h1>\n",
        "<br>\n",
        "<img src=\"https://i.ibb.co/jh6qD0t/RNN.png\" alt=\"RNN\" border=\"0\"></a>\n",
        "</center>\n",
        "</head>\n",
        "\n",
        "<html>"
      ]
    },
    {
      "cell_type": "markdown",
      "metadata": {
        "id": "SLib0ib6ks-0"
      },
      "source": [
        "### **IMPORTING LIBRARIES**"
      ]
    },
    {
      "cell_type": "code",
      "metadata": {
        "id": "0GmRFPkdLhy3",
        "colab": {
          "base_uri": "https://localhost:8080/",
          "height": 1000
        },
        "outputId": "88306d57-035b-4306-883d-1889e0b82b2e"
      },
      "source": [
        "# Import Tensorflow 2.0\n",
        "%tensorflow_version 2.x\n",
        "import tensorflow as tf\n",
        "\n",
        "#Install Stock API Client (forex aggregates not currently implemented however I addressed the issue and waiting for them to get back to me. Using requests for now)\n",
        "!pip install --upgrade --force-reinstall polygon-api-client\n",
        "!pip install requests\n",
        "!pip install matplotlib\n",
        "\n",
        "#Import other packages\n",
        "from polygon import RESTClient\n",
        "from sklearn.preprocessing import StandardScaler\n",
        "from sklearn.metrics import confusion_matrix\n",
        "from sklearn.metrics import classification_report\n",
        "import pandas as pd\n",
        "import seaborn as sns\n",
        "import matplotlib.pyplot as plt\n",
        "import numpy as np\n",
        "import requests\n",
        "import os\n",
        "import io\n",
        "import time\n",
        "import random\n",
        "import datetime\n",
        "import functools\n",
        "import csv\n",
        "import glob\n",
        "from google.colab import drive\n",
        "from tqdm import tqdm\n",
        "from IPython import display as ipythondisplay"
      ],
      "execution_count": 1,
      "outputs": [
        {
          "output_type": "stream",
          "name": "stdout",
          "text": [
            "Collecting polygon-api-client\n",
            "  Using cached polygon_api_client-0.2.11-py3-none-any.whl (22 kB)\n",
            "Collecting websockets>=8.0.2\n",
            "  Using cached websockets-10.1-cp37-cp37m-manylinux_2_5_x86_64.manylinux1_x86_64.manylinux_2_12_x86_64.manylinux2010_x86_64.whl (111 kB)\n",
            "Collecting requests>=2.22.0\n",
            "  Using cached requests-2.27.1-py2.py3-none-any.whl (63 kB)\n",
            "Collecting websocket-client>=0.56.0\n",
            "  Using cached websocket_client-1.2.3-py3-none-any.whl (53 kB)\n",
            "Collecting certifi>=2017.4.17\n",
            "  Using cached certifi-2021.10.8-py2.py3-none-any.whl (149 kB)\n",
            "Collecting urllib3<1.27,>=1.21.1\n",
            "  Using cached urllib3-1.26.8-py2.py3-none-any.whl (138 kB)\n",
            "Collecting idna<4,>=2.5\n",
            "  Using cached idna-3.3-py3-none-any.whl (61 kB)\n",
            "Collecting charset-normalizer~=2.0.0\n",
            "  Using cached charset_normalizer-2.0.10-py3-none-any.whl (39 kB)\n",
            "Installing collected packages: urllib3, idna, charset-normalizer, certifi, websockets, websocket-client, requests, polygon-api-client\n",
            "  Attempting uninstall: urllib3\n",
            "    Found existing installation: urllib3 1.26.8\n",
            "    Uninstalling urllib3-1.26.8:\n",
            "      Successfully uninstalled urllib3-1.26.8\n",
            "  Attempting uninstall: idna\n",
            "    Found existing installation: idna 3.3\n",
            "    Uninstalling idna-3.3:\n",
            "      Successfully uninstalled idna-3.3\n",
            "  Attempting uninstall: charset-normalizer\n",
            "    Found existing installation: charset-normalizer 2.0.10\n",
            "    Uninstalling charset-normalizer-2.0.10:\n",
            "      Successfully uninstalled charset-normalizer-2.0.10\n",
            "  Attempting uninstall: certifi\n",
            "    Found existing installation: certifi 2021.10.8\n",
            "    Uninstalling certifi-2021.10.8:\n",
            "      Successfully uninstalled certifi-2021.10.8\n",
            "  Attempting uninstall: websockets\n",
            "    Found existing installation: websockets 10.1\n",
            "    Uninstalling websockets-10.1:\n",
            "      Successfully uninstalled websockets-10.1\n",
            "  Attempting uninstall: websocket-client\n",
            "    Found existing installation: websocket-client 1.2.3\n",
            "    Uninstalling websocket-client-1.2.3:\n",
            "      Successfully uninstalled websocket-client-1.2.3\n",
            "  Attempting uninstall: requests\n",
            "    Found existing installation: requests 2.27.1\n",
            "    Uninstalling requests-2.27.1:\n",
            "      Successfully uninstalled requests-2.27.1\n",
            "  Attempting uninstall: polygon-api-client\n",
            "    Found existing installation: polygon-api-client 0.2.11\n",
            "    Uninstalling polygon-api-client-0.2.11:\n",
            "      Successfully uninstalled polygon-api-client-0.2.11\n",
            "\u001b[31mERROR: pip's dependency resolver does not currently take into account all the packages that are installed. This behaviour is the source of the following dependency conflicts.\n",
            "google-colab 1.0.0 requires requests~=2.23.0, but you have requests 2.27.1 which is incompatible.\n",
            "datascience 0.10.6 requires folium==0.2.1, but you have folium 0.8.3 which is incompatible.\u001b[0m\n",
            "Successfully installed certifi-2021.10.8 charset-normalizer-2.0.10 idna-3.3 polygon-api-client-0.2.11 requests-2.27.1 urllib3-1.26.8 websocket-client-1.2.3 websockets-10.1\n"
          ]
        },
        {
          "output_type": "display_data",
          "data": {
            "application/vnd.colab-display-data+json": {
              "pip_warning": {
                "packages": [
                  "certifi",
                  "charset_normalizer",
                  "idna",
                  "requests",
                  "urllib3"
                ]
              }
            }
          },
          "metadata": {}
        },
        {
          "output_type": "stream",
          "name": "stdout",
          "text": [
            "Requirement already satisfied: requests in /usr/local/lib/python3.7/dist-packages (2.27.1)\n",
            "Requirement already satisfied: charset-normalizer~=2.0.0 in /usr/local/lib/python3.7/dist-packages (from requests) (2.0.10)\n",
            "Requirement already satisfied: idna<4,>=2.5 in /usr/local/lib/python3.7/dist-packages (from requests) (3.3)\n",
            "Requirement already satisfied: certifi>=2017.4.17 in /usr/local/lib/python3.7/dist-packages (from requests) (2021.10.8)\n",
            "Requirement already satisfied: urllib3<1.27,>=1.21.1 in /usr/local/lib/python3.7/dist-packages (from requests) (1.26.8)\n",
            "Requirement already satisfied: matplotlib in /usr/local/lib/python3.7/dist-packages (3.2.2)\n",
            "Requirement already satisfied: pyparsing!=2.0.4,!=2.1.2,!=2.1.6,>=2.0.1 in /usr/local/lib/python3.7/dist-packages (from matplotlib) (3.0.6)\n",
            "Requirement already satisfied: kiwisolver>=1.0.1 in /usr/local/lib/python3.7/dist-packages (from matplotlib) (1.3.2)\n",
            "Requirement already satisfied: python-dateutil>=2.1 in /usr/local/lib/python3.7/dist-packages (from matplotlib) (2.8.2)\n",
            "Requirement already satisfied: cycler>=0.10 in /usr/local/lib/python3.7/dist-packages (from matplotlib) (0.11.0)\n",
            "Requirement already satisfied: numpy>=1.11 in /usr/local/lib/python3.7/dist-packages (from matplotlib) (1.19.5)\n",
            "Requirement already satisfied: six>=1.5 in /usr/local/lib/python3.7/dist-packages (from python-dateutil>=2.1->matplotlib) (1.15.0)\n"
          ]
        }
      ]
    },
    {
      "cell_type": "markdown",
      "metadata": {
        "id": "-eCBjdb40U2x"
      },
      "source": [
        "# **1 DATA PREPROCESSING AND CLEAN UP**"
      ]
    },
    {
      "cell_type": "markdown",
      "metadata": {
        "id": "xFTwf3bizfpb"
      },
      "source": [
        "### **1.1 TWO FUNCTIONS: ONE TO ACCESS POLYGON API, ANOTHER TO CONVERT TIME STAMP FOR A DATA POINT.**\n",
        "From 2010-01 to 2020-12 A total 120 Months.\n",
        "The function access the Polygon API in 1 hour timeframes in a span of a month.\n",
        "Each Monthly Batch comes in as a JSON file which is converted to a pandas DataFrame then converted into a CSV file."
      ]
    },
    {
      "cell_type": "markdown",
      "metadata": {
        "id": "PuUDWFKHzmJO"
      },
      "source": [
        "<html>\n",
        "<head>\n",
        "<img src=\"https://i.ibb.co/XpsFbSH/Polygon.png\" alt=\"Polygon\" border=\"0\"></a>\n",
        "</head>\n",
        "\n",
        "<html>"
      ]
    },
    {
      "cell_type": "code",
      "metadata": {
        "id": "a5r5fo-Uztez"
      },
      "source": [
        "def ts_to_datetime(ts) -> str:\n",
        "  return datetime.datetime.fromtimestamp(ts / 1000.0).strftime('%Y-%m-%d %H:%M')\n",
        "\n",
        "def print_csv(start, end, year, month):\n",
        "  # API key\n",
        "  key = #PUT API KEY FROM POLYGON HERE#  \n",
        "\n",
        "  endpoint = 'https://api.polygon.io/v2/aggs/ticker/C:GBPJPY/range/1/hour/{dfrom}/{to}?apiKey={key}&limit=50000'\n",
        "  resp = requests.get(endpoint.format(dfrom = start, to = end, key = key ))\n",
        "\n",
        "  my_dictionary = {'t': [' '], 'o': [0.0] , 'h': [0.0], 'l': [0.0], 'c': [0.0], 'v': [0.0], 'vw': [0.0], 'avgOHLC': [0.0]}\n",
        "\n",
        "  for result in resp.json()['results']:\n",
        "    dt = ts_to_datetime(result[\"t\"])\n",
        "    avgOHLC = (result['o'] + result['h'] + result['l'] + result['c']) / 4\n",
        "\n",
        "    my_dictionary['t'].append(dt)             # Time\n",
        "    my_dictionary['o'].append(result['o'])    # Open Price\n",
        "    my_dictionary['h'].append(result['h'])    # High Price\n",
        "    my_dictionary['l'].append(result['l'])    # Low Price\n",
        "    my_dictionary['c'].append(result['c'])    # Close Price\n",
        "    my_dictionary['v'].append(result['v'])    # Volume\n",
        "    my_dictionary['vw'].append(result['vw'])  # Volume Weighted\n",
        "    my_dictionary['avgOHLC'].append(avgOHLC)  # Average Price\n",
        "\n",
        "  # converts dictionary to pandas DataFrame\n",
        "  df = pd.DataFrame(my_dictionary)            \n",
        "  \n",
        "  filename = \"/drive/My Drive/CSV2/\" + year + \"-\" + month + \".csv\"\n",
        "\n",
        "  # converts pandas DataFrame into a csv file\n",
        "  df.to_csv(filename)"
      ],
      "execution_count": 2,
      "outputs": []
    },
    {
      "cell_type": "markdown",
      "metadata": {
        "id": "yBDiJJ-uzxgJ"
      },
      "source": [
        "### **1.2 SCRIPT FOR AUTOMATING A TIMELINE OF 10 YEARS MONTHLY API CALLS**\n",
        "Resulting in 120 Monthly CSV Files with each file containing 1 hour data points in a span of a month."
      ]
    },
    {
      "cell_type": "code",
      "metadata": {
        "id": "8gdzj-Jiz25G",
        "colab": {
          "base_uri": "https://localhost:8080/",
          "height": 346
        },
        "outputId": "616d140e-d6b5-436b-fb4a-5bd7194b19fa"
      },
      "source": [
        "# specify training data timeline: 10 years\n",
        "# from 2010 to 2020\n",
        "\n",
        "import datetime\n",
        "import calendar\n",
        "\n",
        "year = 2010\n",
        "month = 1\n",
        "\n",
        "for i in range(0, 11):\n",
        "\n",
        "  for j in range(0, 12):\n",
        "    _, num_days = calendar.monthrange(year + i, month + j)\n",
        "\n",
        "    start_day = datetime.date(year + i, month + j, 1)\n",
        "    end_day = datetime.date(year + i, month + j, num_days)\n",
        "\n",
        "    print_csv(start_day, end_day, str(year + i), str(month + j))\n"
      ],
      "execution_count": 3,
      "outputs": [
        {
          "output_type": "error",
          "ename": "FileNotFoundError",
          "evalue": "ignored",
          "traceback": [
            "\u001b[0;31m---------------------------------------------------------------------------\u001b[0m",
            "\u001b[0;31mFileNotFoundError\u001b[0m                         Traceback (most recent call last)",
            "\u001b[0;32m<ipython-input-3-0c125fd3f558>\u001b[0m in \u001b[0;36m<module>\u001b[0;34m()\u001b[0m\n\u001b[1;32m     16\u001b[0m     \u001b[0mend_day\u001b[0m \u001b[0;34m=\u001b[0m \u001b[0mdatetime\u001b[0m\u001b[0;34m.\u001b[0m\u001b[0mdate\u001b[0m\u001b[0;34m(\u001b[0m\u001b[0myear\u001b[0m \u001b[0;34m+\u001b[0m \u001b[0mi\u001b[0m\u001b[0;34m,\u001b[0m \u001b[0mmonth\u001b[0m \u001b[0;34m+\u001b[0m \u001b[0mj\u001b[0m\u001b[0;34m,\u001b[0m \u001b[0mnum_days\u001b[0m\u001b[0;34m)\u001b[0m\u001b[0;34m\u001b[0m\u001b[0;34m\u001b[0m\u001b[0m\n\u001b[1;32m     17\u001b[0m \u001b[0;34m\u001b[0m\u001b[0m\n\u001b[0;32m---> 18\u001b[0;31m     \u001b[0mprint_csv\u001b[0m\u001b[0;34m(\u001b[0m\u001b[0mstart_day\u001b[0m\u001b[0;34m,\u001b[0m \u001b[0mend_day\u001b[0m\u001b[0;34m,\u001b[0m \u001b[0mstr\u001b[0m\u001b[0;34m(\u001b[0m\u001b[0myear\u001b[0m \u001b[0;34m+\u001b[0m \u001b[0mi\u001b[0m\u001b[0;34m)\u001b[0m\u001b[0;34m,\u001b[0m \u001b[0mstr\u001b[0m\u001b[0;34m(\u001b[0m\u001b[0mmonth\u001b[0m \u001b[0;34m+\u001b[0m \u001b[0mj\u001b[0m\u001b[0;34m)\u001b[0m\u001b[0;34m)\u001b[0m\u001b[0;34m\u001b[0m\u001b[0;34m\u001b[0m\u001b[0m\n\u001b[0m",
            "\u001b[0;32m<ipython-input-2-b994498e6bcd>\u001b[0m in \u001b[0;36mprint_csv\u001b[0;34m(start, end, year, month)\u001b[0m\n\u001b[1;32m     30\u001b[0m \u001b[0;34m\u001b[0m\u001b[0m\n\u001b[1;32m     31\u001b[0m   \u001b[0;31m# converts pandas DataFrame into a csv file\u001b[0m\u001b[0;34m\u001b[0m\u001b[0;34m\u001b[0m\u001b[0;34m\u001b[0m\u001b[0m\n\u001b[0;32m---> 32\u001b[0;31m   \u001b[0mdf\u001b[0m\u001b[0;34m.\u001b[0m\u001b[0mto_csv\u001b[0m\u001b[0;34m(\u001b[0m\u001b[0mfilename\u001b[0m\u001b[0;34m)\u001b[0m\u001b[0;34m\u001b[0m\u001b[0;34m\u001b[0m\u001b[0m\n\u001b[0m",
            "\u001b[0;32m/usr/local/lib/python3.7/dist-packages/pandas/core/generic.py\u001b[0m in \u001b[0;36mto_csv\u001b[0;34m(self, path_or_buf, sep, na_rep, float_format, columns, header, index, index_label, mode, encoding, compression, quoting, quotechar, line_terminator, chunksize, date_format, doublequote, escapechar, decimal, errors)\u001b[0m\n\u001b[1;32m   3168\u001b[0m             \u001b[0mdecimal\u001b[0m\u001b[0;34m=\u001b[0m\u001b[0mdecimal\u001b[0m\u001b[0;34m,\u001b[0m\u001b[0;34m\u001b[0m\u001b[0;34m\u001b[0m\u001b[0m\n\u001b[1;32m   3169\u001b[0m         )\n\u001b[0;32m-> 3170\u001b[0;31m         \u001b[0mformatter\u001b[0m\u001b[0;34m.\u001b[0m\u001b[0msave\u001b[0m\u001b[0;34m(\u001b[0m\u001b[0;34m)\u001b[0m\u001b[0;34m\u001b[0m\u001b[0;34m\u001b[0m\u001b[0m\n\u001b[0m\u001b[1;32m   3171\u001b[0m \u001b[0;34m\u001b[0m\u001b[0m\n\u001b[1;32m   3172\u001b[0m         \u001b[0;32mif\u001b[0m \u001b[0mpath_or_buf\u001b[0m \u001b[0;32mis\u001b[0m \u001b[0;32mNone\u001b[0m\u001b[0;34m:\u001b[0m\u001b[0;34m\u001b[0m\u001b[0;34m\u001b[0m\u001b[0m\n",
            "\u001b[0;32m/usr/local/lib/python3.7/dist-packages/pandas/io/formats/csvs.py\u001b[0m in \u001b[0;36msave\u001b[0;34m(self)\u001b[0m\n\u001b[1;32m    188\u001b[0m                 \u001b[0mencoding\u001b[0m\u001b[0;34m=\u001b[0m\u001b[0mself\u001b[0m\u001b[0;34m.\u001b[0m\u001b[0mencoding\u001b[0m\u001b[0;34m,\u001b[0m\u001b[0;34m\u001b[0m\u001b[0;34m\u001b[0m\u001b[0m\n\u001b[1;32m    189\u001b[0m                 \u001b[0merrors\u001b[0m\u001b[0;34m=\u001b[0m\u001b[0mself\u001b[0m\u001b[0;34m.\u001b[0m\u001b[0merrors\u001b[0m\u001b[0;34m,\u001b[0m\u001b[0;34m\u001b[0m\u001b[0;34m\u001b[0m\u001b[0m\n\u001b[0;32m--> 190\u001b[0;31m                 \u001b[0mcompression\u001b[0m\u001b[0;34m=\u001b[0m\u001b[0mdict\u001b[0m\u001b[0;34m(\u001b[0m\u001b[0mself\u001b[0m\u001b[0;34m.\u001b[0m\u001b[0mcompression_args\u001b[0m\u001b[0;34m,\u001b[0m \u001b[0mmethod\u001b[0m\u001b[0;34m=\u001b[0m\u001b[0mself\u001b[0m\u001b[0;34m.\u001b[0m\u001b[0mcompression\u001b[0m\u001b[0;34m)\u001b[0m\u001b[0;34m,\u001b[0m\u001b[0;34m\u001b[0m\u001b[0;34m\u001b[0m\u001b[0m\n\u001b[0m\u001b[1;32m    191\u001b[0m             )\n\u001b[1;32m    192\u001b[0m             \u001b[0mclose\u001b[0m \u001b[0;34m=\u001b[0m \u001b[0;32mTrue\u001b[0m\u001b[0;34m\u001b[0m\u001b[0;34m\u001b[0m\u001b[0m\n",
            "\u001b[0;32m/usr/local/lib/python3.7/dist-packages/pandas/io/common.py\u001b[0m in \u001b[0;36mget_handle\u001b[0;34m(path_or_buf, mode, encoding, compression, memory_map, is_text, errors)\u001b[0m\n\u001b[1;32m    491\u001b[0m         \u001b[0;32mif\u001b[0m \u001b[0mencoding\u001b[0m\u001b[0;34m:\u001b[0m\u001b[0;34m\u001b[0m\u001b[0;34m\u001b[0m\u001b[0m\n\u001b[1;32m    492\u001b[0m             \u001b[0;31m# Encoding\u001b[0m\u001b[0;34m\u001b[0m\u001b[0;34m\u001b[0m\u001b[0;34m\u001b[0m\u001b[0m\n\u001b[0;32m--> 493\u001b[0;31m             \u001b[0mf\u001b[0m \u001b[0;34m=\u001b[0m \u001b[0mopen\u001b[0m\u001b[0;34m(\u001b[0m\u001b[0mpath_or_buf\u001b[0m\u001b[0;34m,\u001b[0m \u001b[0mmode\u001b[0m\u001b[0;34m,\u001b[0m \u001b[0mencoding\u001b[0m\u001b[0;34m=\u001b[0m\u001b[0mencoding\u001b[0m\u001b[0;34m,\u001b[0m \u001b[0merrors\u001b[0m\u001b[0;34m=\u001b[0m\u001b[0merrors\u001b[0m\u001b[0;34m,\u001b[0m \u001b[0mnewline\u001b[0m\u001b[0;34m=\u001b[0m\u001b[0;34m\"\"\u001b[0m\u001b[0;34m)\u001b[0m\u001b[0;34m\u001b[0m\u001b[0;34m\u001b[0m\u001b[0m\n\u001b[0m\u001b[1;32m    494\u001b[0m         \u001b[0;32melif\u001b[0m \u001b[0mis_text\u001b[0m\u001b[0;34m:\u001b[0m\u001b[0;34m\u001b[0m\u001b[0;34m\u001b[0m\u001b[0m\n\u001b[1;32m    495\u001b[0m             \u001b[0;31m# No explicit encoding\u001b[0m\u001b[0;34m\u001b[0m\u001b[0;34m\u001b[0m\u001b[0;34m\u001b[0m\u001b[0m\n",
            "\u001b[0;31mFileNotFoundError\u001b[0m: [Errno 2] No such file or directory: '/drive/My Drive/CSV2/2010-1.csv'"
          ]
        }
      ]
    },
    {
      "cell_type": "markdown",
      "metadata": {
        "id": "w_AUje66z5KY"
      },
      "source": [
        "### **1.3 CONCATENATING ALL 120 MONTHLY CSV FILES INTO ONE CSV FILE.**\n",
        "The resulting csv file has 68,293 data points from 2010-01 to 2020-12 in 1 hour time frames."
      ]
    },
    {
      "cell_type": "code",
      "metadata": {
        "id": "G_5VfUA-z8S8"
      },
      "source": [
        "cwd = os.getcwd()\n",
        "\n",
        "os.chdir('/drive/My Drive/CSV2/')\n",
        "\n",
        "extension = 'csv'\n",
        "all_filenames = [i for i in glob.glob('*.{}'.format(extension))]\n",
        "\n",
        "# combines all files in the list\n",
        "combined_csv = pd.concat([pd.read_csv(f) for f in all_filenames ])\n",
        "# export to csv\n",
        "combined_csv.to_csv( \"forexDataGBPJYP.csv\", index=False, encoding='utf-8-sig')"
      ],
      "execution_count": null,
      "outputs": []
    },
    {
      "cell_type": "markdown",
      "metadata": {
        "id": "bwo9CQo_lDUr"
      },
      "source": [
        "### **1.4 UPLOADING CSV FILE**"
      ]
    },
    {
      "cell_type": "code",
      "metadata": {
        "colab": {
          "resources": {
            "http://localhost:8080/nbextensions/google.colab/files.js": {
              "data": "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",
              "ok": true,
              "headers": [
                [
                  "content-type",
                  "application/javascript"
                ]
              ],
              "status": 200,
              "status_text": ""
            }
          },
          "base_uri": "https://localhost:8080/",
          "height": 72
        },
        "id": "25a0S_PTO2j5",
        "outputId": "c58d9d56-e6da-44e7-8c70-afeaba968c9f"
      },
      "source": [
        "from google.colab import files\n",
        "uploaded = files.upload()"
      ],
      "execution_count": null,
      "outputs": [
        {
          "output_type": "display_data",
          "data": {
            "text/html": [
              "\n",
              "     <input type=\"file\" id=\"files-1d114b59-784b-4bbf-b826-47fd58a8c437\" name=\"files[]\" multiple disabled\n",
              "        style=\"border:none\" />\n",
              "     <output id=\"result-1d114b59-784b-4bbf-b826-47fd58a8c437\">\n",
              "      Upload widget is only available when the cell has been executed in the\n",
              "      current browser session. Please rerun this cell to enable.\n",
              "      </output>\n",
              "      <script src=\"/nbextensions/google.colab/files.js\"></script> "
            ],
            "text/plain": [
              "<IPython.core.display.HTML object>"
            ]
          },
          "metadata": {
            "tags": []
          }
        },
        {
          "output_type": "stream",
          "text": [
            "Saving FOREXdataGBP-JYP.csv to FOREXdataGBP-JYP (1).csv\n"
          ],
          "name": "stdout"
        }
      ]
    },
    {
      "cell_type": "markdown",
      "metadata": {
        "id": "fYlRVTKIlJCS"
      },
      "source": [
        "## **1.5 DATA PREPROCESSING FOR MODEL**"
      ]
    },
    {
      "cell_type": "markdown",
      "metadata": {
        "id": "19AloFZfazvk"
      },
      "source": [
        "To start processing, we define a function to convert UNIX timestamps that the Polygon API returns to dates and define the API key as well as all vectors we will use for data collection and preprocessing."
      ]
    },
    {
      "cell_type": "code",
      "metadata": {
        "id": "ubdSqdNlaYVM"
      },
      "source": [
        "#timestamp to datetime converter as polygon returns timestamps\n",
        "def ts_to_datetime(ts) -> str:\n",
        "  return datetime.datetime.fromtimestamp(ts / 1000.0).strftime('%Y-%m-%d %H:%M')\n",
        "#Define the key for API and initialize all Vectors to be used for processing\n",
        "key_ = #PUT API KEY FROM POLYGON HERE#    \n",
        "dateVector = []\n",
        "ohlcVector = []"
      ],
      "execution_count": 4,
      "outputs": []
    },
    {
      "cell_type": "markdown",
      "metadata": {
        "id": "xeMv5iTueGJ5"
      },
      "source": [
        "### **1.6 DATA SELECTION**"
      ]
    },
    {
      "cell_type": "markdown",
      "metadata": {
        "id": "pGIWr7QlbRge"
      },
      "source": [
        "#### **1.7 OPTIONAL CELL TO FETCH DATA FROM API INSTEAD OF DATABASE**\n",
        "Run this cell to populate the ohlcVector with average OHLC (open, high, low,  close) prices  obtained from the API. This works the best with daily data due to the way the Polygon API aggregates prices and allows for the flexibility of choosing any currency pair "
      ]
    },
    {
      "cell_type": "code",
      "metadata": {
        "id": "uIshUZR0abPB"
      },
      "source": [
        "from_ = \"2009-10-01\"\n",
        "to_ = \"2020-05-01\"\n",
        "endpoint = 'https://api.polygon.io/v2/aggs/ticker/C:USDJPY/range/1/day/{dfrom}/{to}?unadjusted=true&sort=asc&apiKey={key}&limit=50000'\n",
        "resp = requests.get(endpoint.format(dfrom = from_, to = to_, key = key_ ))\n",
        "for result in resp.json()['results']:  \n",
        "    dt = ts_to_datetime(result[\"t\"])\n",
        "    avgOHLC = (result['o'] + result['h'] + result['l'] + result['c']) / 4\n",
        "    dateVector.append(dt[5:])\n",
        "    ohlcVector.append(float(avgOHLC))"
      ],
      "execution_count": 5,
      "outputs": []
    },
    {
      "cell_type": "markdown",
      "metadata": {
        "id": "WKLxlF9Ic9B4"
      },
      "source": [
        "#### **1.8.1 CELL TO FETCH DATA FROM UPLOADED FILE OR DATABASE**\n",
        "If the cell above was not run, run this cell to use data from an uploaded csv file or database. This was necessary as we had to write a script to concatenate all 4 hour data and 1 hour data for a given currency from the API due to restrictions with how data is aggregated on the API side."
      ]
    },
    {
      "cell_type": "code",
      "metadata": {
        "id": "jeoksN1DdEzN",
        "colab": {
          "base_uri": "https://localhost:8080/",
          "height": 200
        },
        "outputId": "19ceae10-c8cd-4722-c1f4-6ebb6d5fac59"
      },
      "source": [
        "#Create price difference vector to be used as input\n",
        "df2 = pd.read_csv(io.BytesIO(uploaded['FOREXdataGBP-JYP.csv'])) \n",
        "ohlcVector = df2['avgOHLC'].tolist()"
      ],
      "execution_count": 6,
      "outputs": [
        {
          "output_type": "error",
          "ename": "NameError",
          "evalue": "ignored",
          "traceback": [
            "\u001b[0;31m---------------------------------------------------------------------------\u001b[0m",
            "\u001b[0;31mNameError\u001b[0m                                 Traceback (most recent call last)",
            "\u001b[0;32m<ipython-input-6-e1526eac4916>\u001b[0m in \u001b[0;36m<module>\u001b[0;34m()\u001b[0m\n\u001b[1;32m      1\u001b[0m \u001b[0;31m#Create price difference vector to be used as input\u001b[0m\u001b[0;34m\u001b[0m\u001b[0;34m\u001b[0m\u001b[0;34m\u001b[0m\u001b[0m\n\u001b[0;32m----> 2\u001b[0;31m \u001b[0mdf2\u001b[0m \u001b[0;34m=\u001b[0m \u001b[0mpd\u001b[0m\u001b[0;34m.\u001b[0m\u001b[0mread_csv\u001b[0m\u001b[0;34m(\u001b[0m\u001b[0mio\u001b[0m\u001b[0;34m.\u001b[0m\u001b[0mBytesIO\u001b[0m\u001b[0;34m(\u001b[0m\u001b[0muploaded\u001b[0m\u001b[0;34m[\u001b[0m\u001b[0;34m'FOREXdataGBP-JYP.csv'\u001b[0m\u001b[0;34m]\u001b[0m\u001b[0;34m)\u001b[0m\u001b[0;34m)\u001b[0m\u001b[0;34m\u001b[0m\u001b[0;34m\u001b[0m\u001b[0m\n\u001b[0m\u001b[1;32m      3\u001b[0m \u001b[0mohlcVector\u001b[0m \u001b[0;34m=\u001b[0m \u001b[0mdf2\u001b[0m\u001b[0;34m[\u001b[0m\u001b[0;34m'avgOHLC'\u001b[0m\u001b[0;34m]\u001b[0m\u001b[0;34m.\u001b[0m\u001b[0mtolist\u001b[0m\u001b[0;34m(\u001b[0m\u001b[0;34m)\u001b[0m\u001b[0;34m\u001b[0m\u001b[0;34m\u001b[0m\u001b[0m\n",
            "\u001b[0;31mNameError\u001b[0m: name 'uploaded' is not defined"
          ]
        }
      ]
    },
    {
      "cell_type": "markdown",
      "metadata": {
        "id": "zZKzRVEHaDAh"
      },
      "source": [
        "### **1.8.2 FETCH DATA FROM MONGODB MLAB DATABASE**"
      ]
    },
    {
      "cell_type": "code",
      "metadata": {
        "id": "JdrK-oapZ9Hd"
      },
      "source": [
        "\n",
        "from pymongo import MongoClient\n",
        "from pprint import pprint \n",
        "\n",
        "mongo_client = MongoClient(#MONGO CREDENTIALS HERE IF APPLICABLE#)\n",
        "\n",
        "# database name\n",
        "db = mongo_client[\"DataMining2021\"]\n",
        "# collection name\n",
        "col = db[\"4HRGBPYEN\"]\n",
        "\n",
        "result = col.find()\n",
        "\n",
        "openValue = []\n",
        "highValue = []\n",
        "lowValue = []\n",
        "closeValue = []\n",
        "avgOHLCValue = []\n",
        "for doc in col.find():\n",
        "    openValue += [doc[\"1\"]]\n",
        "    highValue += [doc[\"2\"]]\n",
        "    lowValue += [doc[\"3\"]]\n",
        "    closeValue += [doc[\"4\"]]\n",
        "    avgOHLCValue += [doc[\"7\"]]\n",
        "\n",
        "print(\"avgOHLCValue: \", closeValue)"
      ],
      "execution_count": null,
      "outputs": []
    },
    {
      "cell_type": "markdown",
      "metadata": {
        "id": "N8Kmis8ZgmRd"
      },
      "source": [
        "# **2 PRICE PREDICTION OVER TIME MODEL**"
      ]
    },
    {
      "cell_type": "markdown",
      "metadata": {
        "id": "NKE5hqmMeP3H"
      },
      "source": [
        "### **2.1 GENERATING CHANGES IN PRICE AND SPLITTING DATA FOR TRAINING AND TESTING**\n",
        "Instead of using prices as inputs to our model, which are sensitive to trends due to time, we use percent changes in price which do not change as prices go up or down. This also helps to provide bounds to the data. For our splitting of the data, we use a standard 80/20 split between training and testing data.  "
      ]
    },
    {
      "cell_type": "code",
      "metadata": {
        "id": "JSd3I3peT5Ty",
        "colab": {
          "base_uri": "https://localhost:8080/"
        },
        "outputId": "471bdd58-92cb-4db6-e884-05f4ec981aa7"
      },
      "source": [
        "dpriceVector = []\n",
        "for i in range(0,len(ohlcVector)-1):\n",
        "  dpriceVector.append(float('{:.7f}'.format(((ohlcVector[i+1]-ohlcVector[i])/ohlcVector[i])))*100)\n",
        "vocab_size = len((set(dpriceVector)))\n",
        "print(\"TOTAL SIZE:\", len(dpriceVector))\n",
        "print(\"There are\", vocab_size, \"unique characters in the dataset\")\n",
        "split_point = int(len(dpriceVector)*0.8)\n",
        "trainingData = dpriceVector[:split_point]    \n",
        "testData = dpriceVector[split_point:]\n",
        "trainingData_len = len(trainingData)\n",
        "testData_len = len(testData)\n"
      ],
      "execution_count": 7,
      "outputs": [
        {
          "output_type": "stream",
          "name": "stdout",
          "text": [
            "TOTAL SIZE: 3301\n",
            "There are 3254 unique characters in the dataset\n"
          ]
        }
      ]
    },
    {
      "cell_type": "markdown",
      "metadata": {
        "id": "VZgRkoSogHpB"
      },
      "source": [
        "### **2.3 SHAPING DATA FOR MODEL**\n",
        "The idea for our model is that it takes a sequence of percent changes in price and tries to predict the next percent change. Therefore, the input for our model needs to be a list of percent change sequences and our output will be a list of what the next percent change should be. Since we need to define the sequence length, we will define this function now and use it later when we define hyperparameters."
      ]
    },
    {
      "cell_type": "code",
      "metadata": {
        "id": "QzJ656Cve7Dx"
      },
      "source": [
        "def createTrainingBatch(seq_length):\n",
        "  x_train = []\n",
        "  y_train = []\n",
        "  for x in range(seq_length, trainingData_len):\n",
        "    x_train.append(trainingData[x-seq_length:x])\n",
        "    y_train.append(trainingData[x])\n",
        "  x_train = np.array(x_train)\n",
        "  y_train = np.array(y_train)\n",
        "  x_train = np.reshape(x_train, (x_train.shape[0], x_train.shape[1], 1))\n",
        "  return x_train, y_train"
      ],
      "execution_count": null,
      "outputs": []
    },
    {
      "cell_type": "markdown",
      "metadata": {
        "id": "ZbWvcQLLlU14"
      },
      "source": [
        "## **2.4 BUILDING THE MODEL**"
      ]
    },
    {
      "cell_type": "markdown",
      "metadata": {
        "id": "mY6Qzoz4ML1U"
      },
      "source": [
        "<html>\n",
        "<head>\n",
        "<h1>Recurrrent Neural Network using Long Short Term Memory (LSTM) </b></h1>\n",
        "<br>\n",
        "<img src=\"https://i.ibb.co/y5FDfpW/LSTM.png\" alt=\"LSTM\" border=\"0\">\n",
        "<img src=\"https://i.ibb.co/v1cFZch/LSTM5.png\" alt=\"LSTM5\" border=\"0\">\n",
        "<img src=\"https://i.ibb.co/6bMHPN2/Many-To-One.png\" alt=\"Many-To-One\" border=\"0\">\n",
        "</head>\n",
        "\n",
        "<html>"
      ]
    },
    {
      "cell_type": "markdown",
      "metadata": {
        "id": "WUTe7ov6iVHy"
      },
      "source": [
        "### **2.4.1 MODEL ARCHITECTURE**\n",
        "This function defines the architecture our model uses. We stack 3 LSTMs to provide layers of abstraction that allow the model to create its own intermediary data from which it will generate a prediction through the final dense layer with 1 output. We placed dropout layers between each LSTM layer to help prevent overfitting. The Model uses 1 dense layer."
      ]
    },
    {
      "cell_type": "code",
      "metadata": {
        "id": "bLXAVM9U5PxZ"
      },
      "source": [
        "def build_model(rnn_units, input_shape_):\n",
        "  model = tf.keras.Sequential([\n",
        "    tf.keras.layers.LSTM(rnn_units, return_sequences=True, input_shape=input_shape_),\n",
        "    tf.keras.layers.Dropout(0.2),\n",
        "    tf.keras.layers.LSTM(rnn_units, return_sequences=True),\n",
        "    tf.keras.layers.Dropout(0.2),\n",
        "    tf.keras.layers.LSTM(rnn_units),\n",
        "    tf.keras.layers.Dense(1)\n",
        "  ])\n",
        "  return model"
      ],
      "execution_count": null,
      "outputs": []
    },
    {
      "cell_type": "markdown",
      "metadata": {
        "id": "sN6x535SmIAh"
      },
      "source": [
        "### **2.4.2 SUMMARY OF A SAMPLE MODEL**"
      ]
    },
    {
      "cell_type": "code",
      "metadata": {
        "colab": {
          "base_uri": "https://localhost:8080/"
        },
        "id": "5lof9i9yTdet",
        "outputId": "019483c9-5fbd-4d56-ae9c-8c7cc80a5bdb"
      },
      "source": [
        "model = build_model(256, (250, 1))\n",
        "model.summary()"
      ],
      "execution_count": null,
      "outputs": [
        {
          "output_type": "stream",
          "text": [
            "Model: \"sequential_6\"\n",
            "_________________________________________________________________\n",
            "Layer (type)                 Output Shape              Param #   \n",
            "=================================================================\n",
            "lstm_18 (LSTM)               (None, 250, 256)          264192    \n",
            "_________________________________________________________________\n",
            "dropout_12 (Dropout)         (None, 250, 256)          0         \n",
            "_________________________________________________________________\n",
            "lstm_19 (LSTM)               (None, 250, 256)          525312    \n",
            "_________________________________________________________________\n",
            "dropout_13 (Dropout)         (None, 250, 256)          0         \n",
            "_________________________________________________________________\n",
            "lstm_20 (LSTM)               (None, 256)               525312    \n",
            "_________________________________________________________________\n",
            "dense_6 (Dense)              (None, 1)                 257       \n",
            "=================================================================\n",
            "Total params: 1,315,073\n",
            "Trainable params: 1,315,073\n",
            "Non-trainable params: 0\n",
            "_________________________________________________________________\n"
          ],
          "name": "stdout"
        }
      ]
    },
    {
      "cell_type": "markdown",
      "metadata": {
        "id": "zmmcw4nLlv9p"
      },
      "source": [
        "### **2.4.3 DEFINING HYPERPARAMETERS**"
      ]
    },
    {
      "cell_type": "code",
      "metadata": {
        "id": "CX8FIvkCHukz"
      },
      "source": [
        "# Optimization parameters:\n",
        "num_epochs = 120\n",
        "batch_size_ = 32  \n",
        "seq_length = 125 \n",
        "learning_rate = 1e-5 \n",
        "\n",
        "# Model parameters: \n",
        "rnn_units = 150  # Experiment between 1 and 2048\n",
        "\n",
        "# Checkpoint location: \n",
        "checkpoint_dir = './training_checkpoints'\n",
        "checkpoint_prefix = os.path.join(checkpoint_dir, \"my_ckpt\")"
      ],
      "execution_count": null,
      "outputs": []
    },
    {
      "cell_type": "markdown",
      "metadata": {
        "id": "Ihn3u5ajl4CS"
      },
      "source": [
        "### **2.4.4 TRAINING THE MODEL**"
      ]
    },
    {
      "cell_type": "markdown",
      "metadata": {
        "id": "1f5V_0DZN7zI"
      },
      "source": [
        "<html>\n",
        "<head>\n",
        "<h1>Training the Model: Backpropagation Through Time </b></h1>\n",
        "\n",
        "\n",
        "<br>\n",
        "<img src=\"https://i.ibb.co/LppKzzW/RNNBack-Prop.png\" alt=\"RNNBack-Prop\" border=\"0\"></a>\n",
        "</head>\n",
        "\n",
        "<html>"
      ]
    },
    {
      "cell_type": "code",
      "metadata": {
        "id": "XQaLcBjnIKJM",
        "colab": {
          "base_uri": "https://localhost:8080/"
        },
        "outputId": "4f5a8279-1083-4b8f-a5b7-4a3b4f584301"
      },
      "source": [
        "#generate the training batch \n",
        "x_train,y_train = createTrainingBatch(seq_length)\n",
        "#build the model\n",
        "model = build_model(rnn_units, (x_train.shape[1],1))\n",
        "#define optimizer and loss function\n",
        "model.compile(optimizer='Adam', loss='mean_squared_error')\n",
        "#fit the model to the data\n",
        "history = model.fit(x_train, y_train, epochs=num_epochs, batch_size=batch_size_)"
      ],
      "execution_count": null,
      "outputs": [
        {
          "output_type": "stream",
          "text": [
            "Epoch 1/120\n",
            "79/79 [==============================] - 5s 23ms/step - loss: 0.1665\n",
            "Epoch 2/120\n",
            "79/79 [==============================] - 2s 21ms/step - loss: 0.1768\n",
            "Epoch 3/120\n",
            "79/79 [==============================] - 2s 21ms/step - loss: 0.1433\n",
            "Epoch 4/120\n",
            "79/79 [==============================] - 2s 21ms/step - loss: 0.1244\n",
            "Epoch 5/120\n",
            "79/79 [==============================] - 2s 21ms/step - loss: 0.1357\n",
            "Epoch 6/120\n",
            "79/79 [==============================] - 2s 21ms/step - loss: 0.1303\n",
            "Epoch 7/120\n",
            "79/79 [==============================] - 2s 21ms/step - loss: 0.1367\n",
            "Epoch 8/120\n",
            "79/79 [==============================] - 2s 21ms/step - loss: 0.1315\n",
            "Epoch 9/120\n",
            "79/79 [==============================] - 2s 21ms/step - loss: 0.1271\n",
            "Epoch 10/120\n",
            "79/79 [==============================] - 2s 21ms/step - loss: 0.1423\n",
            "Epoch 11/120\n",
            "79/79 [==============================] - 2s 22ms/step - loss: 0.1364\n",
            "Epoch 12/120\n",
            "79/79 [==============================] - 2s 22ms/step - loss: 0.1344\n",
            "Epoch 13/120\n",
            "79/79 [==============================] - 2s 21ms/step - loss: 0.1395\n",
            "Epoch 14/120\n",
            "79/79 [==============================] - 2s 22ms/step - loss: 0.1422\n",
            "Epoch 15/120\n",
            "79/79 [==============================] - 2s 21ms/step - loss: 0.1256\n",
            "Epoch 16/120\n",
            "79/79 [==============================] - 2s 21ms/step - loss: 0.1338\n",
            "Epoch 17/120\n",
            "79/79 [==============================] - 2s 23ms/step - loss: 0.1293\n",
            "Epoch 18/120\n",
            "79/79 [==============================] - 2s 23ms/step - loss: 0.1321\n",
            "Epoch 19/120\n",
            "79/79 [==============================] - 2s 23ms/step - loss: 0.1347\n",
            "Epoch 20/120\n",
            "79/79 [==============================] - 2s 21ms/step - loss: 0.1310\n",
            "Epoch 21/120\n",
            "79/79 [==============================] - 2s 21ms/step - loss: 0.1221\n",
            "Epoch 22/120\n",
            "79/79 [==============================] - 2s 21ms/step - loss: 0.1307\n",
            "Epoch 23/120\n",
            "79/79 [==============================] - 2s 22ms/step - loss: 0.1263\n",
            "Epoch 24/120\n",
            "79/79 [==============================] - 2s 21ms/step - loss: 0.1376\n",
            "Epoch 25/120\n",
            "79/79 [==============================] - 2s 21ms/step - loss: 0.1298\n",
            "Epoch 26/120\n",
            "79/79 [==============================] - 2s 22ms/step - loss: 0.1240\n",
            "Epoch 27/120\n",
            "79/79 [==============================] - 2s 21ms/step - loss: 0.1263\n",
            "Epoch 28/120\n",
            "79/79 [==============================] - 2s 22ms/step - loss: 0.1300\n",
            "Epoch 29/120\n",
            "79/79 [==============================] - 2s 23ms/step - loss: 0.1171\n",
            "Epoch 30/120\n",
            "79/79 [==============================] - 2s 21ms/step - loss: 0.1338\n",
            "Epoch 31/120\n",
            "79/79 [==============================] - 2s 21ms/step - loss: 0.1277\n",
            "Epoch 32/120\n",
            "79/79 [==============================] - 2s 22ms/step - loss: 0.1293\n",
            "Epoch 33/120\n",
            "79/79 [==============================] - 2s 22ms/step - loss: 0.1177\n",
            "Epoch 34/120\n",
            "79/79 [==============================] - 2s 22ms/step - loss: 0.1159\n",
            "Epoch 35/120\n",
            "79/79 [==============================] - 2s 22ms/step - loss: 0.1340\n",
            "Epoch 36/120\n",
            "79/79 [==============================] - 2s 22ms/step - loss: 0.1288\n",
            "Epoch 37/120\n",
            "79/79 [==============================] - 2s 22ms/step - loss: 0.1201\n",
            "Epoch 38/120\n",
            "79/79 [==============================] - 2s 24ms/step - loss: 0.1194\n",
            "Epoch 39/120\n",
            "79/79 [==============================] - 2s 26ms/step - loss: 0.1304\n",
            "Epoch 40/120\n",
            "79/79 [==============================] - 2s 26ms/step - loss: 0.1177\n",
            "Epoch 41/120\n",
            "79/79 [==============================] - 2s 24ms/step - loss: 0.1324\n",
            "Epoch 42/120\n",
            "79/79 [==============================] - 2s 21ms/step - loss: 0.1275\n",
            "Epoch 43/120\n",
            "79/79 [==============================] - 2s 21ms/step - loss: 0.1156\n",
            "Epoch 44/120\n",
            "79/79 [==============================] - 2s 21ms/step - loss: 0.1164\n",
            "Epoch 45/120\n",
            "79/79 [==============================] - 2s 21ms/step - loss: 0.1303\n",
            "Epoch 46/120\n",
            "79/79 [==============================] - 2s 21ms/step - loss: 0.1144\n",
            "Epoch 47/120\n",
            "79/79 [==============================] - 2s 21ms/step - loss: 0.1245\n",
            "Epoch 48/120\n",
            "79/79 [==============================] - 2s 21ms/step - loss: 0.1077\n",
            "Epoch 49/120\n",
            "79/79 [==============================] - 2s 21ms/step - loss: 0.1210\n",
            "Epoch 50/120\n",
            "79/79 [==============================] - 2s 21ms/step - loss: 0.1112\n",
            "Epoch 51/120\n",
            "79/79 [==============================] - 2s 21ms/step - loss: 0.1214\n",
            "Epoch 52/120\n",
            "79/79 [==============================] - 2s 24ms/step - loss: 0.1079\n",
            "Epoch 53/120\n",
            "79/79 [==============================] - 2s 21ms/step - loss: 0.1001\n",
            "Epoch 54/120\n",
            "79/79 [==============================] - 2s 21ms/step - loss: 0.1044\n",
            "Epoch 55/120\n",
            "79/79 [==============================] - 2s 22ms/step - loss: 0.1030\n",
            "Epoch 56/120\n",
            "79/79 [==============================] - 2s 21ms/step - loss: 0.1143\n",
            "Epoch 57/120\n",
            "79/79 [==============================] - 2s 22ms/step - loss: 0.0989\n",
            "Epoch 58/120\n",
            "79/79 [==============================] - 2s 22ms/step - loss: 0.0987\n",
            "Epoch 59/120\n",
            "79/79 [==============================] - 2s 22ms/step - loss: 0.0975\n",
            "Epoch 60/120\n",
            "79/79 [==============================] - 2s 21ms/step - loss: 0.1046\n",
            "Epoch 61/120\n",
            "79/79 [==============================] - 2s 21ms/step - loss: 0.0956\n",
            "Epoch 62/120\n",
            "79/79 [==============================] - 2s 21ms/step - loss: 0.0949\n",
            "Epoch 63/120\n",
            "79/79 [==============================] - 2s 21ms/step - loss: 0.0838\n",
            "Epoch 64/120\n",
            "79/79 [==============================] - 2s 22ms/step - loss: 0.0835\n",
            "Epoch 65/120\n",
            "79/79 [==============================] - 2s 21ms/step - loss: 0.0783\n",
            "Epoch 66/120\n",
            "79/79 [==============================] - 2s 22ms/step - loss: 0.0758\n",
            "Epoch 67/120\n",
            "79/79 [==============================] - 2s 21ms/step - loss: 0.0720\n",
            "Epoch 68/120\n",
            "79/79 [==============================] - 2s 21ms/step - loss: 0.0733\n",
            "Epoch 69/120\n",
            "79/79 [==============================] - 2s 21ms/step - loss: 0.0712\n",
            "Epoch 70/120\n",
            "79/79 [==============================] - 2s 23ms/step - loss: 0.0713\n",
            "Epoch 71/120\n",
            "79/79 [==============================] - 2s 21ms/step - loss: 0.0652\n",
            "Epoch 72/120\n",
            "79/79 [==============================] - 2s 21ms/step - loss: 0.0565\n",
            "Epoch 73/120\n",
            "79/79 [==============================] - 2s 21ms/step - loss: 0.0566\n",
            "Epoch 74/120\n",
            "79/79 [==============================] - 2s 21ms/step - loss: 0.0492\n",
            "Epoch 75/120\n",
            "79/79 [==============================] - 2s 21ms/step - loss: 0.0509\n",
            "Epoch 76/120\n",
            "79/79 [==============================] - 2s 21ms/step - loss: 0.0495\n",
            "Epoch 77/120\n",
            "79/79 [==============================] - 2s 21ms/step - loss: 0.0419\n",
            "Epoch 78/120\n",
            "79/79 [==============================] - 2s 21ms/step - loss: 0.0435\n",
            "Epoch 79/120\n",
            "79/79 [==============================] - 2s 21ms/step - loss: 0.0359\n",
            "Epoch 80/120\n",
            "79/79 [==============================] - 2s 21ms/step - loss: 0.0375\n",
            "Epoch 81/120\n",
            "79/79 [==============================] - 2s 21ms/step - loss: 0.0300\n",
            "Epoch 82/120\n",
            "79/79 [==============================] - 2s 21ms/step - loss: 0.0311\n",
            "Epoch 83/120\n",
            "79/79 [==============================] - 2s 21ms/step - loss: 0.0306\n",
            "Epoch 84/120\n",
            "79/79 [==============================] - 2s 21ms/step - loss: 0.0260\n",
            "Epoch 85/120\n",
            "79/79 [==============================] - 2s 21ms/step - loss: 0.0215\n",
            "Epoch 86/120\n",
            "79/79 [==============================] - 2s 21ms/step - loss: 0.0218\n",
            "Epoch 87/120\n",
            "79/79 [==============================] - 2s 21ms/step - loss: 0.0199\n",
            "Epoch 88/120\n",
            "79/79 [==============================] - 2s 21ms/step - loss: 0.0192\n",
            "Epoch 89/120\n",
            "79/79 [==============================] - 2s 21ms/step - loss: 0.0187\n",
            "Epoch 90/120\n",
            "79/79 [==============================] - 2s 21ms/step - loss: 0.0184\n",
            "Epoch 91/120\n",
            "79/79 [==============================] - 2s 21ms/step - loss: 0.0169\n",
            "Epoch 92/120\n",
            "79/79 [==============================] - 2s 21ms/step - loss: 0.0152\n",
            "Epoch 93/120\n",
            "79/79 [==============================] - 2s 21ms/step - loss: 0.0136\n",
            "Epoch 94/120\n",
            "79/79 [==============================] - 2s 22ms/step - loss: 0.0129\n",
            "Epoch 95/120\n",
            "79/79 [==============================] - 2s 22ms/step - loss: 0.0115\n",
            "Epoch 96/120\n",
            "79/79 [==============================] - 2s 21ms/step - loss: 0.0112\n",
            "Epoch 97/120\n",
            "79/79 [==============================] - 2s 21ms/step - loss: 0.0102\n",
            "Epoch 98/120\n",
            "79/79 [==============================] - 2s 21ms/step - loss: 0.0097\n",
            "Epoch 99/120\n",
            "79/79 [==============================] - 2s 21ms/step - loss: 0.0094\n",
            "Epoch 100/120\n",
            "79/79 [==============================] - 2s 22ms/step - loss: 0.0091\n",
            "Epoch 101/120\n",
            "79/79 [==============================] - 2s 22ms/step - loss: 0.0098\n",
            "Epoch 102/120\n",
            "79/79 [==============================] - 2s 22ms/step - loss: 0.0078\n",
            "Epoch 103/120\n",
            "79/79 [==============================] - 2s 22ms/step - loss: 0.0093\n",
            "Epoch 104/120\n",
            "79/79 [==============================] - 2s 22ms/step - loss: 0.0079\n",
            "Epoch 105/120\n",
            "79/79 [==============================] - 2s 22ms/step - loss: 0.0077\n",
            "Epoch 106/120\n",
            "79/79 [==============================] - 2s 21ms/step - loss: 0.0076\n",
            "Epoch 107/120\n",
            "79/79 [==============================] - 2s 22ms/step - loss: 0.0074\n",
            "Epoch 108/120\n",
            "79/79 [==============================] - 2s 21ms/step - loss: 0.0069\n",
            "Epoch 109/120\n",
            "79/79 [==============================] - 2s 21ms/step - loss: 0.0066\n",
            "Epoch 110/120\n",
            "79/79 [==============================] - 2s 21ms/step - loss: 0.0065\n",
            "Epoch 111/120\n",
            "79/79 [==============================] - 2s 21ms/step - loss: 0.0065\n",
            "Epoch 112/120\n",
            "79/79 [==============================] - 2s 21ms/step - loss: 0.0060\n",
            "Epoch 113/120\n",
            "79/79 [==============================] - 2s 21ms/step - loss: 0.0058\n",
            "Epoch 114/120\n",
            "79/79 [==============================] - 2s 21ms/step - loss: 0.0059\n",
            "Epoch 115/120\n",
            "79/79 [==============================] - 2s 21ms/step - loss: 0.0057\n",
            "Epoch 116/120\n",
            "79/79 [==============================] - 2s 21ms/step - loss: 0.0059\n",
            "Epoch 117/120\n",
            "79/79 [==============================] - 2s 21ms/step - loss: 0.0059\n",
            "Epoch 118/120\n",
            "79/79 [==============================] - 2s 21ms/step - loss: 0.0058\n",
            "Epoch 119/120\n",
            "79/79 [==============================] - 2s 21ms/step - loss: 0.0057\n",
            "Epoch 120/120\n",
            "79/79 [==============================] - 2s 21ms/step - loss: 0.0049\n"
          ],
          "name": "stdout"
        }
      ]
    },
    {
      "cell_type": "markdown",
      "metadata": {
        "id": "SG6Fp_CDlA7H"
      },
      "source": [
        "### **2.4.8 PLOTTING THE LOSS THROUGHOUT TRAINING**"
      ]
    },
    {
      "cell_type": "code",
      "metadata": {
        "colab": {
          "base_uri": "https://localhost:8080/",
          "height": 265
        },
        "id": "dTuVv3KqlGM8",
        "outputId": "57152991-ef95-44ec-ebb6-f49af8500b33"
      },
      "source": [
        "plt.plot(history.history['loss'], label='train')\n",
        "plt.legend()\n",
        "plt.show()"
      ],
      "execution_count": null,
      "outputs": [
        {
          "output_type": "display_data",
          "data": {
            "image/png": "[encoded data removed]",
            "text/plain": [
              "<Figure size 432x288 with 1 Axes>"
            ]
          },
          "metadata": {
            "tags": [],
            "needs_background": "light"
          }
        }
      ]
    },
    {
      "cell_type": "markdown",
      "metadata": {
        "id": "fVNj5RhClZOW"
      },
      "source": [
        "# **3 TESTING THE MODEL**"
      ]
    },
    {
      "cell_type": "markdown",
      "metadata": {
        "id": "G488IvsOlsVw"
      },
      "source": [
        "### **3.1 TEST DATA GENERATION**\n",
        "Since LSTMs rely on developing a hidden state from seeing earlier data, we will have to concatenate the testing data to the training data to see how well the model is able to continue predicting the market"
      ]
    },
    {
      "cell_type": "code",
      "metadata": {
        "id": "UBdZRcd-lra4"
      },
      "source": [
        "generation_length = 10\n",
        "x_test = []\n",
        "for x in range(seq_length,len(dpriceVector[0:-(generation_length)])):\n",
        "  x_test.append(dpriceVector[x-seq_length:x])\n",
        "x_test = np.array(x_test)\n",
        "x_test = np.reshape(x_test, (x_test.shape[0], x_test.shape[1], 1))"
      ],
      "execution_count": null,
      "outputs": []
    },
    {
      "cell_type": "markdown",
      "metadata": {
        "id": "Dz-D1fn_nUCr"
      },
      "source": [
        "### **3.2 PRICE PREDICTION**\n",
        "One problem we saw with many model online is how they handle prediction. Since the goal is predicting prices into the future, the model should be making prediction based off its own predictions. Many online models simply run the model on the test data which does not accomplish this."
      ]
    },
    {
      "cell_type": "code",
      "metadata": {
        "id": "cFyc3XTWPtAY",
        "colab": {
          "base_uri": "https://localhost:8080/"
        },
        "outputId": "cc8d5e24-3f91-41bd-ecdf-dd1b4ba4f2e3"
      },
      "source": [
        "predicted_price = []\n",
        "for i in range(0,generation_length):\n",
        "  predicted_price = model.predict(x_test)\n",
        "  print(predicted_price[-1][0])\n",
        "  add_price = float('{:.6f}'.format(predicted_price[-1][0]))\n",
        "  x_test_copy = x_test.copy()\n",
        "  np.squeeze(x_test_copy)\n",
        "  x_test_copy = np.append(x_test_copy,add_price)\n",
        "  new_data_sequence = x_test_copy[(0-seq_length):]\n",
        "  new_data_sequence = new_data_sequence.reshape(1,seq_length,1)\n",
        "  x_test = np.concatenate((x_test,new_data_sequence))\n",
        "predicted_prices = [predicted_price[i] for i in range(0,len(predicted_price))]"
      ],
      "execution_count": null,
      "outputs": [
        {
          "output_type": "stream",
          "text": [
            "0.21962304\n",
            "0.028732631\n",
            "-0.07184302\n",
            "0.09874011\n",
            "0.37697032\n",
            "0.4407034\n",
            "0.16559133\n",
            "-0.05561822\n",
            "0.1524803\n",
            "0.27058858\n"
          ],
          "name": "stdout"
        }
      ]
    },
    {
      "cell_type": "markdown",
      "metadata": {
        "id": "CE_1_DJtn14Z"
      },
      "source": [
        "### **3.3 CONVERTING PERCENT PRICE CHANGES BACK TO ACTUAL PRICES**\n",
        "Since our model outputs percent changes in price, we must convert this back to actual prices given a starting price. "
      ]
    },
    {
      "cell_type": "code",
      "metadata": {
        "id": "vPd7o1F0oAKs"
      },
      "source": [
        "calculatedOriginalPrices = []\n",
        "calculatedOriginalPrices.append(ohlcVector[seq_length])\n",
        "for i in range(seq_length,len(dpriceVector)):\n",
        "  nextPriceOriginal = calculatedOriginalPrices[i-seq_length] * ((dpriceVector[i])/100+1)\n",
        "  calculatedOriginalPrices.append(nextPriceOriginal)\n",
        "calculatedPredictedPrices = []\n",
        "calculatedPredictedPrices.append(ohlcVector[seq_length])  \n",
        "for i in range(0,len(predicted_prices)):\n",
        "  nextPricePredicted = calculatedPredictedPrices[i] * ((predicted_prices[i])/100+1)\n",
        "  calculatedPredictedPrices.append(nextPricePredicted)"
      ],
      "execution_count": null,
      "outputs": []
    },
    {
      "cell_type": "markdown",
      "metadata": {
        "id": "YsPMA-mcoOrm"
      },
      "source": [
        "### **3.4 VISUALIZING THE RESULTS**"
      ]
    },
    {
      "cell_type": "code",
      "metadata": {
        "id": "bz8yvcfJRDME",
        "colab": {
          "base_uri": "https://localhost:8080/",
          "height": 627
        },
        "outputId": "a8df0ee2-a017-4984-ce19-0a303527d4a9"
      },
      "source": [
        "plt.plot(dpriceVector[seq_length:], color='black', label=\"Actual price movement\")\n",
        "plt.plot(predicted_prices, color='red', label=\"Predicted price movement\")\n",
        "plt.title(\"Price change\")\n",
        "plt.xlabel('time')\n",
        "plt.ylabel(\"Price Change\")\n",
        "plt.legend()\n",
        "plt.show()\n",
        "plt.plot(calculatedOriginalPrices, color='black', label=\"Actual prices\")\n",
        "plt.plot(calculatedPredictedPrices, color='red', label=\"Predicted prices\")\n",
        "plt.title(\"Price\")\n",
        "plt.xlabel('time')\n",
        "plt.ylabel(\"Price\")\n",
        "plt.legend()\n",
        "plt.show()\n"
      ],
      "execution_count": null,
      "outputs": [
        {
          "output_type": "display_data",
          "data": {
            "image/png": "[encoded data removed]",
            "text/plain": [
              "<Figure size 432x288 with 1 Axes>"
            ]
          },
          "metadata": {
            "tags": [],
            "needs_background": "light"
          }
        },
        {
          "output_type": "stream",
          "text": [
            "/usr/local/lib/python3.7/dist-packages/numpy/core/_asarray.py:136: VisibleDeprecationWarning: Creating an ndarray from ragged nested sequences (which is a list-or-tuple of lists-or-tuples-or ndarrays with different lengths or shapes) is deprecated. If you meant to do this, you must specify 'dtype=object' when creating the ndarray\n",
            "  return array(a, dtype, copy=False, order=order, subok=True)\n"
          ],
          "name": "stderr"
        },
        {
          "output_type": "display_data",
          "data": {
            "image/png": "[encoded data removed]",
            "text/plain": [
              "<Figure size 432x288 with 1 Axes>"
            ]
          },
          "metadata": {
            "tags": [],
            "needs_background": "light"
          }
        }
      ]
    },
    {
      "cell_type": "markdown",
      "metadata": {
        "id": "CgJp-FAvoYsE"
      },
      "source": [
        "# **4 SHORT TERM CATEGORICAL PRICE PREDICTION MODEL**\n",
        "After experimenting with the price prediction over time model, we came to the conclusion that predicting prices over the long term is not feasible given the amount of external variables at play that compound over time. Instead, we decided to pursue a model that could be used as more of a trading tool. Based on previous prices, we try to predict whether the price will be moving up or down in the next time frame and how big will the movement be. Because the output is categorical, the model will also be able to provide confidence metric which we could leverage to find optimal times to enter the market."
      ]
    },
    {
      "cell_type": "markdown",
      "metadata": {
        "id": "1F5EkBwopZvk"
      },
      "source": [
        "### **4.1 VISUALIZING TRAINING DATA THROUGH A HISTOGRAM**"
      ]
    },
    {
      "cell_type": "code",
      "metadata": {
        "colab": {
          "base_uri": "https://localhost:8080/",
          "height": 268
        },
        "id": "7l1uUfaqpnX0",
        "outputId": "ddc76d09-bdb3-409d-df2f-99180e3ee297"
      },
      "source": [
        "plt.hist(trainingData, edgecolor=\"black\",bins=100)\n",
        "plt.xlim(-0.5,0.5)\n",
        "plt.show()"
      ],
      "execution_count": null,
      "outputs": [
        {
          "output_type": "display_data",
          "data": {
            "image/png": "[encoded data removed]",
            "text/plain": [
              "<Figure size 432x288 with 1 Axes>"
            ]
          },
          "metadata": {
            "tags": [],
            "needs_background": "light"
          }
        }
      ]
    },
    {
      "cell_type": "markdown",
      "metadata": {
        "id": "W6yuPbqopr5m"
      },
      "source": [
        "## **4.2 DATA PREPROCESSING**"
      ]
    },
    {
      "cell_type": "markdown",
      "metadata": {
        "id": "pJgC08Dzqy8T"
      },
      "source": [
        "### **4.3 VECTORIZING OUTPUTS AND SHAPING DATA FOR MODEL**\n",
        "Since we will be predicting categories of price movement, we must define what is considered a big, medium, and small movement. We first accomplished this by simply visualizing the data through a histogram and picking the appropriate cutoffs. These are the values we settled on for 4-hour data.\n",
        "\n",
        "0.  -> Big Move Down (:-2]\n",
        "1.  -> Medium Move Down (-2:-0.75]\n",
        "2.  ->Small Move Down (-0.75:0)\n",
        "3.  ->Small Move Up (0:0.75) \n",
        "4.  ->Medium Move Up [0.75:2)\n",
        "5.  ->Big Move Up [0.2:)\n",
        "6.  ->No movement 0.0\n"
      ]
    },
    {
      "cell_type": "code",
      "metadata": {
        "id": "OIGjKHhm2qB4"
      },
      "source": [
        "def createCategoricalTrainingBatch(seq_length):\n",
        "  x_train = []\n",
        "  y_train = []\n",
        "  #print(np.average(trainingData))\n",
        "  high_cutoff = 0.97*np.std(trainingData)\n",
        "  medium_cutoff = 0.35*np.std(trainingData)\n",
        "  for x in range(seq_length, trainingData_len):\n",
        "    x_train.append(trainingData[x-seq_length:x])\n",
        "    if trainingData[x] <= -(high_cutoff):\n",
        "      y_train.append(0)\n",
        "    elif trainingData[x] <= -(medium_cutoff) and trainingData[x] > -high_cutoff:\n",
        "      y_train.append(1)\n",
        "    elif trainingData[x] < 0 and trainingData[x] > -(medium_cutoff):\n",
        "      y_train.append(2)\n",
        "    elif trainingData[x] > 0 and trainingData[x] < medium_cutoff:\n",
        "      y_train.append(3)\n",
        "    elif trainingData[x] >= medium_cutoff and trainingData[x] < high_cutoff:\n",
        "      y_train.append(4)\n",
        "    elif trainingData[x] >= high_cutoff:\n",
        "      y_train.append(5)\n",
        "    else:\n",
        "      y_train.append(6)\n",
        "\n",
        "  x_train = np.array(x_train)\n",
        "  y_train = np.array(y_train)\n",
        "  x_train = np.reshape(x_train, (x_train.shape[0], x_train.shape[1], 1))\n",
        "  return x_train, y_train;"
      ],
      "execution_count": null,
      "outputs": []
    },
    {
      "cell_type": "markdown",
      "metadata": {
        "id": "4JBWRTaVsQCC"
      },
      "source": [
        "# **5 BUILDING THE MODEL**"
      ]
    },
    {
      "cell_type": "markdown",
      "metadata": {
        "id": "GDaUQzWSsXzS"
      },
      "source": [
        "### **5.1 MODEL ARCHITECTURE**\n",
        "Our model for the cateogrical predictions is very similar to our initial model for price predictions over time. The big exception is that the output dense layer now has 7 outputs for each of the categories we defined."
      ]
    },
    {
      "cell_type": "markdown",
      "metadata": {
        "id": "ZFmvZvLooKiy"
      },
      "source": [
        "<html>\n",
        "<head>\n",
        "<h1>Recurrrent Neural Network using Categorical Data </b></h1>\n",
        "<br>\n",
        "<img src=\"https://i.ibb.co/y5FDfpW/LSTM.png\" alt=\"LSTM\" border=\"0\">\n",
        "<img src=\"https://i.ibb.co/v1cFZch/LSTM5.png\" alt=\"LSTM5\" border=\"0\">\n",
        "<img src=\"https://i.ibb.co/xFjgXk0/Many-To-Many.png\" alt=\"Many-To-Many\" border=\"0\">\n",
        "</head>\n",
        "\n",
        "<html>"
      ]
    },
    {
      "cell_type": "code",
      "metadata": {
        "id": "zRzSODowFVhU"
      },
      "source": [
        "#CHANGED MODEL NEEDS TO HAVE A DENSE LAYER EQUAL TO NUMBER OF CATEGORIES WE MADE\n",
        "def build_model(rnn_units, seq_length):\n",
        "  model = tf.keras.Sequential([\n",
        "    tf.keras.layers.LSTM(rnn_units, return_sequences=True, input_shape=(seq_length,1)),\n",
        "    tf.keras.layers.Dropout(0.5),\n",
        "    tf.keras.layers.LSTM(rnn_units, return_sequences=True),\n",
        "    tf.keras.layers.Dropout(0.5),\n",
        "    tf.keras.layers.LSTM(rnn_units, return_sequences=True),\n",
        "    tf.keras.layers.Dropout(0.5),\n",
        "    tf.keras.layers.LSTM(rnn_units),\n",
        "    tf.keras.layers.Dense(7)\n",
        "  ])\n",
        "  return model"
      ],
      "execution_count": null,
      "outputs": []
    },
    {
      "cell_type": "markdown",
      "metadata": {
        "id": "9Xw8BekU0nKF"
      },
      "source": [
        "###Categories:\n",
        "* Big Move Down\n",
        "* Medium Move Down\n",
        "* Small Move Down\n",
        "* No Movement\n",
        "* Small Move Up\n",
        "* Medium Move Up\n",
        "* Big Move Up\n"
      ]
    },
    {
      "cell_type": "markdown",
      "metadata": {
        "id": "j1dpy5q7slUU"
      },
      "source": [
        "### **5.2 DEFINING HYPERPARAMTERS**"
      ]
    },
    {
      "cell_type": "code",
      "metadata": {
        "id": "CzT1iUv9Fl-6"
      },
      "source": [
        "# Optimization parameters:\n",
        "num_epochs_categorical = 300  \n",
        "batch_size_categorical = 32  \n",
        "seq_length_categorical = 900  \n",
        "learning_rate_categorical = 1e-5 \n",
        "\n",
        "# Model parameters: \n",
        "rnn_units_categorical = 512 \n",
        "\n",
        "# Checkpoint location: \n",
        "checkpoint_dir_categorical = './training_checkpoints_categorical'\n",
        "checkpoint_prefix = os.path.join(checkpoint_dir_categorical, \"my_ckpt\")"
      ],
      "execution_count": null,
      "outputs": []
    },
    {
      "cell_type": "markdown",
      "metadata": {
        "id": "cOL9llHis6QU"
      },
      "source": [
        "### **5.3 GENERATING THE CATEGORICAL TRAINING BATCH**"
      ]
    },
    {
      "cell_type": "code",
      "metadata": {
        "id": "P4Lv-PkYtIQG",
        "colab": {
          "base_uri": "https://localhost:8080/"
        },
        "outputId": "d41be7b8-e5bc-4194-d685-39e909207a3c"
      },
      "source": [
        "x_train, y_train = createCategoricalTrainingBatch(seq_length_categorical)"
      ],
      "execution_count": null,
      "outputs": [
        {
          "output_type": "stream",
          "text": [
            "0.00042010232300884965\n"
          ],
          "name": "stdout"
        }
      ]
    },
    {
      "cell_type": "markdown",
      "metadata": {
        "id": "9-dbqOT6tOe1"
      },
      "source": [
        "### **5.4 VISUALIZING CATEGORY DISTRIBUTION**"
      ]
    },
    {
      "cell_type": "code",
      "metadata": {
        "id": "SFXPKWzKr5Mf",
        "colab": {
          "base_uri": "https://localhost:8080/",
          "height": 265
        },
        "outputId": "bc5b28a6-85e6-4141-a27e-459322f20295"
      },
      "source": [
        "plt.hist(y_train, edgecolor=\"black\",bins=20)\n",
        "plt.show()"
      ],
      "execution_count": null,
      "outputs": [
        {
          "output_type": "display_data",
          "data": {
            "image/png": "[encoded data removed]",
            "text/plain": [
              "<Figure size 432x288 with 1 Axes>"
            ]
          },
          "metadata": {
            "tags": [],
            "needs_background": "light"
          }
        }
      ]
    },
    {
      "cell_type": "markdown",
      "metadata": {
        "id": "WG3JpXICtbzo"
      },
      "source": [
        "### **5.5 TRAINING THE MODEL**\n",
        "We train the model in much the same way as we trained the price prediction over time model except that we are using the Adamax optimizer which is more suited for categorical data and we are using Sparse Categorical Cross Entropy as the loss function (ensuring it applies a softmax over outputs before calculations are done with from_logits=True). "
      ]
    },
    {
      "cell_type": "code",
      "metadata": {
        "id": "Qr2rPt4UFthU",
        "colab": {
          "base_uri": "https://localhost:8080/"
        },
        "outputId": "3f45587c-c4ce-4ef5-a85b-2102c3f65a99"
      },
      "source": [
        "model = build_model(rnn_units_categorical, seq_length_categorical)\n",
        "model.compile(optimizer='Adamax', loss=tf.keras.losses.SparseCategoricalCrossentropy(from_logits=True))\n",
        "history = model.fit(x_train, y_train, epochs=num_epochs_categorical, batch_size=batch_size_categorical)\n",
        "model.save_weights(checkpoint_prefix)\n",
        "files.download('/content/training_checkpoints_categorical/*')"
      ],
      "execution_count": null,
      "outputs": [
        {
          "output_type": "stream",
          "text": [
            "Epoch 1/300\n",
            "424/424 [==============================] - 106s 245ms/step - loss: 1.7640\n",
            "Epoch 2/300\n",
            "424/424 [==============================] - 107s 252ms/step - loss: 1.7357\n",
            "Epoch 3/300\n",
            "424/424 [==============================] - 108s 254ms/step - loss: 1.6913\n",
            "Epoch 4/300\n",
            "424/424 [==============================] - 109s 257ms/step - loss: 1.6507\n",
            "Epoch 5/300\n",
            "424/424 [==============================] - 112s 264ms/step - loss: 1.6409\n",
            "Epoch 6/300\n",
            "424/424 [==============================] - 113s 267ms/step - loss: 1.6328\n",
            "Epoch 7/300\n",
            "424/424 [==============================] - 114s 268ms/step - loss: 1.6274\n",
            "Epoch 8/300\n",
            "424/424 [==============================] - 114s 268ms/step - loss: 1.6240\n",
            "Epoch 9/300\n",
            "424/424 [==============================] - 113s 267ms/step - loss: 1.6203\n",
            "Epoch 10/300\n",
            "424/424 [==============================] - 113s 267ms/step - loss: 1.6175\n",
            "Epoch 11/300\n",
            "424/424 [==============================] - 114s 268ms/step - loss: 1.6135\n",
            "Epoch 12/300\n",
            "424/424 [==============================] - 113s 268ms/step - loss: 1.6118\n",
            "Epoch 13/300\n",
            "424/424 [==============================] - 113s 267ms/step - loss: 1.6068\n",
            "Epoch 14/300\n",
            "424/424 [==============================] - 113s 267ms/step - loss: 1.6048\n",
            "Epoch 15/300\n",
            "424/424 [==============================] - 114s 268ms/step - loss: 1.6018\n",
            "Epoch 16/300\n",
            "424/424 [==============================] - 114s 268ms/step - loss: 1.5963\n",
            "Epoch 17/300\n",
            "424/424 [==============================] - 114s 268ms/step - loss: 1.5899\n",
            "Epoch 18/300\n",
            "424/424 [==============================] - 113s 268ms/step - loss: 1.5844\n",
            "Epoch 19/300\n",
            "424/424 [==============================] - 114s 268ms/step - loss: 1.5825\n",
            "Epoch 20/300\n",
            "424/424 [==============================] - 113s 267ms/step - loss: 1.5814\n",
            "Epoch 21/300\n",
            "424/424 [==============================] - 113s 268ms/step - loss: 1.5757\n",
            "Epoch 22/300\n",
            "424/424 [==============================] - 114s 268ms/step - loss: 1.5773\n",
            "Epoch 23/300\n",
            "424/424 [==============================] - 113s 267ms/step - loss: 1.5803\n",
            "Epoch 24/300\n",
            "424/424 [==============================] - 113s 268ms/step - loss: 1.5600\n",
            "Epoch 25/300\n",
            "424/424 [==============================] - 114s 268ms/step - loss: 1.5538\n",
            "Epoch 26/300\n",
            "424/424 [==============================] - 113s 267ms/step - loss: 1.5540\n",
            "Epoch 27/300\n",
            "424/424 [==============================] - 113s 268ms/step - loss: 1.5547\n",
            "Epoch 28/300\n",
            "424/424 [==============================] - 113s 267ms/step - loss: 1.5487\n",
            "Epoch 29/300\n",
            "424/424 [==============================] - 113s 267ms/step - loss: 1.5441\n",
            "Epoch 30/300\n",
            "424/424 [==============================] - 113s 268ms/step - loss: 1.5384\n",
            "Epoch 31/300\n",
            "424/424 [==============================] - 114s 268ms/step - loss: 1.5322\n",
            "Epoch 32/300\n",
            "424/424 [==============================] - 114s 268ms/step - loss: 1.5258\n",
            "Epoch 33/300\n",
            "424/424 [==============================] - 114s 268ms/step - loss: 1.5143\n",
            "Epoch 34/300\n",
            "424/424 [==============================] - 114s 268ms/step - loss: 1.5015\n",
            "Epoch 35/300\n",
            "424/424 [==============================] - 114s 268ms/step - loss: 1.4870\n",
            "Epoch 36/300\n",
            "424/424 [==============================] - 113s 268ms/step - loss: 1.4728\n",
            "Epoch 37/300\n",
            "424/424 [==============================] - 114s 268ms/step - loss: 1.4595\n",
            "Epoch 38/300\n",
            "424/424 [==============================] - 114s 268ms/step - loss: 1.4363\n",
            "Epoch 39/300\n",
            "424/424 [==============================] - 114s 268ms/step - loss: 1.4112\n",
            "Epoch 40/300\n",
            "424/424 [==============================] - 114s 268ms/step - loss: 1.3856\n",
            "Epoch 41/300\n",
            "424/424 [==============================] - 114s 268ms/step - loss: 1.3628\n",
            "Epoch 42/300\n",
            "424/424 [==============================] - 114s 268ms/step - loss: 1.3340\n",
            "Epoch 43/300\n",
            "424/424 [==============================] - 113s 268ms/step - loss: 1.2968\n",
            "Epoch 44/300\n",
            "424/424 [==============================] - 113s 267ms/step - loss: 1.2624\n",
            "Epoch 45/300\n",
            "424/424 [==============================] - 113s 267ms/step - loss: 1.2226\n",
            "Epoch 46/300\n",
            "424/424 [==============================] - 114s 268ms/step - loss: 1.1766\n",
            "Epoch 47/300\n",
            "424/424 [==============================] - 113s 268ms/step - loss: 1.1318\n",
            "Epoch 48/300\n",
            "424/424 [==============================] - 114s 268ms/step - loss: 1.0795\n",
            "Epoch 49/300\n",
            "424/424 [==============================] - 114s 268ms/step - loss: 1.0274\n",
            "Epoch 50/300\n",
            "424/424 [==============================] - 114s 268ms/step - loss: 0.9713\n",
            "Epoch 51/300\n",
            "424/424 [==============================] - 113s 268ms/step - loss: 0.9135\n",
            "Epoch 52/300\n",
            "424/424 [==============================] - 113s 267ms/step - loss: 0.8416\n",
            "Epoch 53/300\n",
            "424/424 [==============================] - 114s 268ms/step - loss: 0.7838\n",
            "Epoch 54/300\n",
            "424/424 [==============================] - 114s 268ms/step - loss: 0.7183\n",
            "Epoch 55/300\n",
            "424/424 [==============================] - 114s 268ms/step - loss: 0.6505\n",
            "Epoch 56/300\n",
            "424/424 [==============================] - 113s 267ms/step - loss: 0.5826\n",
            "Epoch 57/300\n",
            "424/424 [==============================] - 113s 268ms/step - loss: 0.5153\n",
            "Epoch 58/300\n",
            "424/424 [==============================] - 113s 268ms/step - loss: 0.4524\n",
            "Epoch 59/300\n",
            "424/424 [==============================] - 113s 267ms/step - loss: 0.3890\n",
            "Epoch 60/300\n",
            "424/424 [==============================] - 114s 268ms/step - loss: 0.3295\n",
            "Epoch 61/300\n",
            "424/424 [==============================] - 114s 269ms/step - loss: 0.2715\n",
            "Epoch 62/300\n",
            "424/424 [==============================] - 114s 268ms/step - loss: 0.2282\n",
            "Epoch 63/300\n",
            "424/424 [==============================] - 114s 269ms/step - loss: 0.1828\n",
            "Epoch 64/300\n",
            "424/424 [==============================] - 114s 268ms/step - loss: 0.1429\n",
            "Epoch 65/300\n",
            "424/424 [==============================] - 114s 268ms/step - loss: 0.1103\n",
            "Epoch 66/300\n",
            "424/424 [==============================] - 113s 267ms/step - loss: 0.0824\n",
            "Epoch 67/300\n",
            "424/424 [==============================] - 113s 267ms/step - loss: 0.0694\n",
            "Epoch 68/300\n",
            "424/424 [==============================] - 113s 267ms/step - loss: 0.0543\n",
            "Epoch 69/300\n",
            "424/424 [==============================] - 113s 267ms/step - loss: 0.0379\n",
            "Epoch 70/300\n",
            "424/424 [==============================] - 113s 267ms/step - loss: 0.0292\n",
            "Epoch 71/300\n",
            "424/424 [==============================] - 113s 268ms/step - loss: 0.0245\n",
            "Epoch 72/300\n",
            "424/424 [==============================] - 113s 267ms/step - loss: 0.0195\n",
            "Epoch 73/300\n",
            "424/424 [==============================] - 113s 267ms/step - loss: 0.0144\n",
            "Epoch 74/300\n",
            "424/424 [==============================] - 113s 267ms/step - loss: 0.0178\n",
            "Epoch 75/300\n",
            "424/424 [==============================] - 113s 267ms/step - loss: 0.0145\n",
            "Epoch 76/300\n",
            "424/424 [==============================] - 113s 268ms/step - loss: 0.0090\n",
            "Epoch 77/300\n",
            "424/424 [==============================] - 114s 268ms/step - loss: 0.0061\n",
            "Epoch 78/300\n",
            "424/424 [==============================] - 114s 268ms/step - loss: 0.0058\n",
            "Epoch 79/300\n",
            "424/424 [==============================] - 114s 269ms/step - loss: 0.0099\n",
            "Epoch 80/300\n",
            "424/424 [==============================] - 114s 268ms/step - loss: 0.0076\n",
            "Epoch 81/300\n",
            "424/424 [==============================] - 113s 268ms/step - loss: 0.0044\n",
            "Epoch 82/300\n",
            "424/424 [==============================] - 113s 267ms/step - loss: 0.0034\n",
            "Epoch 83/300\n",
            "424/424 [==============================] - 113s 267ms/step - loss: 0.0032\n",
            "Epoch 84/300\n",
            "424/424 [==============================] - 113s 267ms/step - loss: 0.0035\n",
            "Epoch 85/300\n",
            "424/424 [==============================] - 113s 267ms/step - loss: 0.0133\n",
            "Epoch 86/300\n",
            "424/424 [==============================] - 114s 268ms/step - loss: 0.0047\n",
            "Epoch 87/300\n",
            "424/424 [==============================] - 114s 268ms/step - loss: 0.0029\n",
            "Epoch 88/300\n",
            "424/424 [==============================] - 114s 268ms/step - loss: 0.0024\n",
            "Epoch 89/300\n",
            "424/424 [==============================] - 113s 267ms/step - loss: 0.0020\n",
            "Epoch 90/300\n",
            "424/424 [==============================] - 114s 268ms/step - loss: 0.0018\n",
            "Epoch 91/300\n",
            "424/424 [==============================] - 114s 268ms/step - loss: 0.0017\n",
            "Epoch 92/300\n",
            "424/424 [==============================] - 113s 267ms/step - loss: 0.0023\n",
            "Epoch 93/300\n",
            "424/424 [==============================] - 114s 268ms/step - loss: 0.0125\n",
            "Epoch 94/300\n",
            "424/424 [==============================] - 113s 267ms/step - loss: 0.0049\n",
            "Epoch 95/300\n",
            "424/424 [==============================] - 113s 268ms/step - loss: 0.0072\n",
            "Epoch 96/300\n",
            "424/424 [==============================] - 114s 268ms/step - loss: 0.0073\n",
            "Epoch 97/300\n",
            "424/424 [==============================] - 114s 268ms/step - loss: 0.0035\n",
            "Epoch 98/300\n",
            "424/424 [==============================] - 114s 268ms/step - loss: 0.0025\n",
            "Epoch 99/300\n",
            "424/424 [==============================] - 113s 267ms/step - loss: 0.0074\n",
            "Epoch 100/300\n",
            "424/424 [==============================] - 113s 267ms/step - loss: 0.0063\n",
            "Epoch 101/300\n",
            "424/424 [==============================] - 113s 267ms/step - loss: 0.0020\n",
            "Epoch 102/300\n",
            "424/424 [==============================] - 113s 267ms/step - loss: 0.0015\n",
            "Epoch 103/300\n",
            "424/424 [==============================] - 114s 269ms/step - loss: 0.0020\n",
            "Epoch 104/300\n",
            "424/424 [==============================] - 114s 269ms/step - loss: 0.0022\n",
            "Epoch 105/300\n",
            "424/424 [==============================] - 114s 268ms/step - loss: 0.0041\n",
            "Epoch 106/300\n",
            "424/424 [==============================] - 114s 268ms/step - loss: 0.0039\n",
            "Epoch 107/300\n",
            "424/424 [==============================] - 114s 268ms/step - loss: 0.0015\n",
            "Epoch 108/300\n",
            "424/424 [==============================] - 113s 268ms/step - loss: 0.0016\n",
            "Epoch 109/300\n",
            "424/424 [==============================] - 113s 266ms/step - loss: 9.8496e-04\n",
            "Epoch 110/300\n",
            "424/424 [==============================] - 113s 267ms/step - loss: 8.3615e-04\n",
            "Epoch 111/300\n",
            "424/424 [==============================] - 113s 266ms/step - loss: 7.4114e-04\n",
            "Epoch 112/300\n",
            "424/424 [==============================] - 113s 267ms/step - loss: 6.5330e-04\n",
            "Epoch 113/300\n",
            "424/424 [==============================] - 113s 267ms/step - loss: 0.0038\n",
            "Epoch 114/300\n",
            "424/424 [==============================] - 113s 267ms/step - loss: 0.0122\n",
            "Epoch 115/300\n",
            "424/424 [==============================] - 113s 267ms/step - loss: 0.0057\n",
            "Epoch 116/300\n",
            "424/424 [==============================] - 113s 267ms/step - loss: 0.0014\n",
            "Epoch 117/300\n",
            "424/424 [==============================] - 113s 266ms/step - loss: 0.0038\n",
            "Epoch 118/300\n",
            "424/424 [==============================] - 113s 267ms/step - loss: 0.0064\n",
            "Epoch 119/300\n",
            "424/424 [==============================] - 113s 267ms/step - loss: 0.0024\n",
            "Epoch 120/300\n",
            "424/424 [==============================] - 113s 266ms/step - loss: 0.0023\n",
            "Epoch 121/300\n",
            "424/424 [==============================] - 113s 267ms/step - loss: 0.0060\n",
            "Epoch 122/300\n",
            "424/424 [==============================] - 113s 266ms/step - loss: 0.0027\n",
            "Epoch 123/300\n",
            "424/424 [==============================] - 112s 265ms/step - loss: 8.9264e-04\n",
            "Epoch 124/300\n",
            "424/424 [==============================] - 112s 265ms/step - loss: 7.3465e-04\n",
            "Epoch 125/300\n",
            "424/424 [==============================] - 113s 265ms/step - loss: 6.2435e-04\n",
            "Epoch 126/300\n",
            "424/424 [==============================] - 113s 267ms/step - loss: 5.4240e-04\n",
            "Epoch 127/300\n",
            "424/424 [==============================] - 113s 267ms/step - loss: 4.8025e-04\n",
            "Epoch 128/300\n",
            "424/424 [==============================] - 113s 267ms/step - loss: 4.3499e-04\n",
            "Epoch 129/300\n",
            "424/424 [==============================] - 114s 268ms/step - loss: 3.9407e-04\n",
            "Epoch 130/300\n",
            "424/424 [==============================] - 113s 266ms/step - loss: 0.0084\n",
            "Epoch 131/300\n",
            "424/424 [==============================] - 113s 267ms/step - loss: 0.0054\n",
            "Epoch 132/300\n",
            "424/424 [==============================] - 113s 267ms/step - loss: 0.0018\n",
            "Epoch 133/300\n",
            "424/424 [==============================] - 113s 266ms/step - loss: 7.4247e-04\n",
            "Epoch 134/300\n",
            "424/424 [==============================] - 113s 267ms/step - loss: 6.1202e-04\n",
            "Epoch 135/300\n",
            "424/424 [==============================] - 113s 267ms/step - loss: 4.6577e-04\n",
            "Epoch 136/300\n",
            "424/424 [==============================] - 113s 267ms/step - loss: 3.8941e-04\n",
            "Epoch 137/300\n",
            "424/424 [==============================] - 113s 267ms/step - loss: 3.4227e-04\n",
            "Epoch 138/300\n",
            "424/424 [==============================] - 113s 267ms/step - loss: 2.9396e-04\n",
            "Epoch 139/300\n",
            "424/424 [==============================] - 113s 267ms/step - loss: 2.7336e-04\n",
            "Epoch 140/300\n",
            "424/424 [==============================] - 113s 267ms/step - loss: 8.6994e-04\n",
            "Epoch 141/300\n",
            "424/424 [==============================] - 113s 266ms/step - loss: 0.0076\n",
            "Epoch 142/300\n",
            "424/424 [==============================] - 113s 266ms/step - loss: 0.0028\n",
            "Epoch 143/300\n",
            "424/424 [==============================] - 113s 267ms/step - loss: 5.4539e-04\n",
            "Epoch 144/300\n",
            "424/424 [==============================] - 113s 268ms/step - loss: 4.1327e-04\n",
            "Epoch 145/300\n",
            "424/424 [==============================] - 113s 267ms/step - loss: 3.3367e-04\n",
            "Epoch 146/300\n",
            "424/424 [==============================] - 113s 265ms/step - loss: 2.9142e-04\n",
            "Epoch 147/300\n",
            "424/424 [==============================] - 113s 267ms/step - loss: 2.5171e-04\n",
            "Epoch 148/300\n",
            "424/424 [==============================] - 114s 268ms/step - loss: 2.2045e-04\n",
            "Epoch 149/300\n",
            "424/424 [==============================] - 113s 268ms/step - loss: 1.9912e-04\n",
            "Epoch 150/300\n",
            "424/424 [==============================] - 113s 267ms/step - loss: 1.8209e-04\n",
            "Epoch 151/300\n",
            "424/424 [==============================] - 113s 267ms/step - loss: 1.6479e-04\n",
            "Epoch 152/300\n",
            "424/424 [==============================] - 113s 268ms/step - loss: 0.0038\n",
            "Epoch 153/300\n",
            "424/424 [==============================] - 113s 267ms/step - loss: 0.0052\n",
            "Epoch 154/300\n",
            "424/424 [==============================] - 113s 267ms/step - loss: 4.9523e-04\n",
            "Epoch 155/300\n",
            "424/424 [==============================] - 113s 267ms/step - loss: 3.5476e-04\n",
            "Epoch 156/300\n",
            "424/424 [==============================] - 113s 268ms/step - loss: 2.8620e-04\n",
            "Epoch 157/300\n",
            "424/424 [==============================] - 113s 268ms/step - loss: 2.3366e-04\n",
            "Epoch 158/300\n",
            "424/424 [==============================] - 114s 268ms/step - loss: 2.0522e-04\n",
            "Epoch 159/300\n",
            "424/424 [==============================] - 114s 268ms/step - loss: 1.7439e-04\n",
            "Epoch 160/300\n",
            "424/424 [==============================] - 114s 268ms/step - loss: 1.5181e-04\n",
            "Epoch 161/300\n",
            "424/424 [==============================] - 113s 268ms/step - loss: 1.3603e-04\n",
            "Epoch 162/300\n",
            "424/424 [==============================] - 113s 267ms/step - loss: 1.1831e-04\n",
            "Epoch 163/300\n",
            "424/424 [==============================] - 113s 268ms/step - loss: 1.0879e-04\n",
            "Epoch 164/300\n",
            "424/424 [==============================] - 114s 268ms/step - loss: 0.0057\n",
            "Epoch 165/300\n",
            "424/424 [==============================] - 113s 267ms/step - loss: 0.0018\n",
            "Epoch 166/300\n",
            "424/424 [==============================] - 114s 268ms/step - loss: 0.0055\n",
            "Epoch 167/300\n",
            "424/424 [==============================] - 114s 268ms/step - loss: 0.0063\n",
            "Epoch 168/300\n",
            "424/424 [==============================] - 114s 268ms/step - loss: 0.0012\n",
            "Epoch 169/300\n",
            "424/424 [==============================] - 113s 267ms/step - loss: 4.4366e-04\n",
            "Epoch 170/300\n",
            "424/424 [==============================] - 113s 267ms/step - loss: 2.7623e-04\n",
            "Epoch 171/300\n",
            "424/424 [==============================] - 113s 268ms/step - loss: 2.1484e-04\n",
            "Epoch 172/300\n",
            "424/424 [==============================] - 113s 267ms/step - loss: 1.8528e-04\n",
            "Epoch 173/300\n",
            "424/424 [==============================] - 113s 266ms/step - loss: 1.5792e-04\n",
            "Epoch 174/300\n",
            "424/424 [==============================] - 112s 265ms/step - loss: 1.3623e-04\n",
            "Epoch 175/300\n",
            "424/424 [==============================] - 113s 267ms/step - loss: 0.0031\n",
            "Epoch 176/300\n",
            "424/424 [==============================] - 113s 267ms/step - loss: 0.0045\n",
            "Epoch 177/300\n",
            "424/424 [==============================] - 113s 266ms/step - loss: 0.0193\n",
            "Epoch 178/300\n",
            "424/424 [==============================] - 113s 265ms/step - loss: 0.0047\n",
            "Epoch 179/300\n",
            "424/424 [==============================] - 113s 265ms/step - loss: 0.0019\n",
            "Epoch 180/300\n",
            "424/424 [==============================] - 113s 265ms/step - loss: 7.3364e-04\n",
            "Epoch 181/300\n",
            "424/424 [==============================] - 113s 266ms/step - loss: 3.8200e-04\n",
            "Epoch 182/300\n",
            "424/424 [==============================] - 113s 266ms/step - loss: 2.7480e-04\n",
            "Epoch 183/300\n",
            "424/424 [==============================] - 113s 266ms/step - loss: 2.3329e-04\n",
            "Epoch 184/300\n",
            "424/424 [==============================] - 113s 267ms/step - loss: 0.0031\n",
            "Epoch 185/300\n",
            "424/424 [==============================] - 112s 265ms/step - loss: 0.0048\n",
            "Epoch 186/300\n",
            "424/424 [==============================] - 113s 266ms/step - loss: 0.0016\n",
            "Epoch 187/300\n",
            "424/424 [==============================] - 113s 266ms/step - loss: 3.4818e-04\n",
            "Epoch 188/300\n",
            "424/424 [==============================] - 113s 266ms/step - loss: 2.6308e-04\n",
            "Epoch 189/300\n",
            "424/424 [==============================] - 113s 266ms/step - loss: 2.2013e-04\n",
            "Epoch 190/300\n",
            "424/424 [==============================] - 113s 266ms/step - loss: 1.8826e-04\n",
            "Epoch 191/300\n",
            "424/424 [==============================] - 112s 265ms/step - loss: 1.5971e-04\n",
            "Epoch 192/300\n",
            "424/424 [==============================] - 113s 266ms/step - loss: 1.3872e-04\n",
            "Epoch 193/300\n",
            "424/424 [==============================] - 113s 266ms/step - loss: 1.2026e-04\n",
            "Epoch 194/300\n",
            "424/424 [==============================] - 113s 267ms/step - loss: 1.0425e-04\n",
            "Epoch 195/300\n",
            "424/424 [==============================] - 113s 266ms/step - loss: 9.2064e-05\n",
            "Epoch 196/300\n",
            "424/424 [==============================] - 113s 266ms/step - loss: 0.0074\n",
            "Epoch 197/300\n",
            "424/424 [==============================] - 113s 266ms/step - loss: 0.0049\n",
            "Epoch 198/300\n",
            "424/424 [==============================] - 113s 267ms/step - loss: 5.5461e-04\n",
            "Epoch 199/300\n",
            "424/424 [==============================] - 113s 266ms/step - loss: 2.6279e-04\n",
            "Epoch 200/300\n",
            "424/424 [==============================] - 113s 266ms/step - loss: 1.9391e-04\n",
            "Epoch 201/300\n",
            "424/424 [==============================] - 113s 267ms/step - loss: 1.6288e-04\n",
            "Epoch 202/300\n",
            "424/424 [==============================] - 114s 268ms/step - loss: 1.3323e-04\n",
            "Epoch 203/300\n",
            "424/424 [==============================] - 113s 268ms/step - loss: 1.1867e-04\n",
            "Epoch 204/300\n",
            "424/424 [==============================] - 113s 267ms/step - loss: 1.0123e-04\n",
            "Epoch 205/300\n",
            "424/424 [==============================] - 113s 267ms/step - loss: 8.7319e-05\n",
            "Epoch 206/300\n",
            "424/424 [==============================] - 113s 267ms/step - loss: 7.6233e-05\n",
            "Epoch 207/300\n",
            "424/424 [==============================] - 113s 267ms/step - loss: 0.0034\n",
            "Epoch 208/300\n",
            "424/424 [==============================] - 113s 267ms/step - loss: 0.0034\n",
            "Epoch 209/300\n",
            "424/424 [==============================] - 113s 267ms/step - loss: 0.0020\n",
            "Epoch 210/300\n",
            "424/424 [==============================] - 113s 267ms/step - loss: 0.0027\n",
            "Epoch 211/300\n",
            " 32/424 [=>............................] - ETA: 1:44 - loss: 7.7896e-04"
          ],
          "name": "stdout"
        }
      ]
    },
    {
      "cell_type": "markdown",
      "metadata": {
        "id": "grSPuqbwt-3l"
      },
      "source": [
        "### **5.6 PLOTTING THE LOSS THROUGHOUT TRAINING**"
      ]
    },
    {
      "cell_type": "code",
      "metadata": {
        "id": "N-tUD48Zsvg2",
        "colab": {
          "base_uri": "https://localhost:8080/",
          "height": 265
        },
        "outputId": "4a70c3f0-eaca-467c-999a-91ebb108680c"
      },
      "source": [
        "plt.plot(history.history['loss'], label='train')\n",
        "plt.legend()\n",
        "plt.show()"
      ],
      "execution_count": null,
      "outputs": [
        {
          "output_type": "display_data",
          "data": {
            "image/png": "[encoded data removed]",
            "text/plain": [
              "<Figure size 432x288 with 1 Axes>"
            ]
          },
          "metadata": {
            "tags": [],
            "needs_background": "light"
          }
        }
      ]
    },
    {
      "cell_type": "markdown",
      "metadata": {
        "id": "VEoLJ0kh3ZS9"
      },
      "source": [
        "### **5.7 Optional Building Model from Saved Weights**"
      ]
    },
    {
      "cell_type": "code",
      "metadata": {
        "colab": {
          "base_uri": "https://localhost:8080/",
          "height": 323
        },
        "id": "Ruh72tgPmSa0",
        "outputId": "624569ff-fa21-4c4b-ba02-41ec8f0e1a4f"
      },
      "source": [
        "model = build_model(rnn_units_categorical, seq_length_categorical)\n",
        "model.load_weights(tf.train.latest_checkpoint(checkpoint_dir_categorical))"
      ],
      "execution_count": null,
      "outputs": [
        {
          "output_type": "error",
          "ename": "IndexError",
          "evalue": "ignored",
          "traceback": [
            "\u001b[0;31m---------------------------------------------------------------------------\u001b[0m",
            "\u001b[0;31mIndexError\u001b[0m                                Traceback (most recent call last)",
            "\u001b[0;32m<ipython-input-125-9b8b62e3e588>\u001b[0m in \u001b[0;36m<module>\u001b[0;34m()\u001b[0m\n\u001b[1;32m      1\u001b[0m \u001b[0mmodel\u001b[0m \u001b[0;34m=\u001b[0m \u001b[0mbuild_model\u001b[0m\u001b[0;34m(\u001b[0m\u001b[0mrnn_units_categorical\u001b[0m\u001b[0;34m,\u001b[0m \u001b[0mseq_length_categorical\u001b[0m\u001b[0;34m)\u001b[0m\u001b[0;34m\u001b[0m\u001b[0;34m\u001b[0m\u001b[0m\n\u001b[0;32m----> 2\u001b[0;31m \u001b[0mmodel\u001b[0m\u001b[0;34m.\u001b[0m\u001b[0mload_weights\u001b[0m\u001b[0;34m(\u001b[0m\u001b[0mtf\u001b[0m\u001b[0;34m.\u001b[0m\u001b[0mtrain\u001b[0m\u001b[0;34m.\u001b[0m\u001b[0mlatest_checkpoint\u001b[0m\u001b[0;34m(\u001b[0m\u001b[0mcheckpoint_dir_categorical\u001b[0m\u001b[0;34m)\u001b[0m\u001b[0;34m)\u001b[0m\u001b[0;34m\u001b[0m\u001b[0;34m\u001b[0m\u001b[0m\n\u001b[0m",
            "\u001b[0;32m/usr/local/lib/python3.7/dist-packages/tensorflow/python/keras/engine/training.py\u001b[0m in \u001b[0;36mload_weights\u001b[0;34m(self, filepath, by_name, skip_mismatch, options)\u001b[0m\n\u001b[1;32m   2203\u001b[0m         \u001b[0msave_format\u001b[0m \u001b[0;34m=\u001b[0m \u001b[0;34m'h5'\u001b[0m\u001b[0;34m\u001b[0m\u001b[0;34m\u001b[0m\u001b[0m\n\u001b[1;32m   2204\u001b[0m     \u001b[0;32mif\u001b[0m \u001b[0msave_format\u001b[0m \u001b[0;34m==\u001b[0m \u001b[0;34m'tf'\u001b[0m\u001b[0;34m:\u001b[0m\u001b[0;34m\u001b[0m\u001b[0;34m\u001b[0m\u001b[0m\n\u001b[0;32m-> 2205\u001b[0;31m       \u001b[0mstatus\u001b[0m \u001b[0;34m=\u001b[0m \u001b[0mself\u001b[0m\u001b[0;34m.\u001b[0m\u001b[0m_trackable_saver\u001b[0m\u001b[0;34m.\u001b[0m\u001b[0mrestore\u001b[0m\u001b[0;34m(\u001b[0m\u001b[0mfilepath\u001b[0m\u001b[0;34m,\u001b[0m \u001b[0moptions\u001b[0m\u001b[0;34m)\u001b[0m\u001b[0;34m\u001b[0m\u001b[0;34m\u001b[0m\u001b[0m\n\u001b[0m\u001b[1;32m   2206\u001b[0m       \u001b[0;32mif\u001b[0m \u001b[0mby_name\u001b[0m\u001b[0;34m:\u001b[0m\u001b[0;34m\u001b[0m\u001b[0;34m\u001b[0m\u001b[0m\n\u001b[1;32m   2207\u001b[0m         raise NotImplementedError(\n",
            "\u001b[0;32m/usr/local/lib/python3.7/dist-packages/tensorflow/python/training/tracking/util.py\u001b[0m in \u001b[0;36mrestore\u001b[0;34m(self, save_path, options)\u001b[0m\n\u001b[1;32m   1297\u001b[0m       \u001b[0mdtype_map\u001b[0m \u001b[0;34m=\u001b[0m \u001b[0mreader\u001b[0m\u001b[0;34m.\u001b[0m\u001b[0mget_variable_to_dtype_map\u001b[0m\u001b[0;34m(\u001b[0m\u001b[0;34m)\u001b[0m\u001b[0;34m\u001b[0m\u001b[0;34m\u001b[0m\u001b[0m\n\u001b[1;32m   1298\u001b[0m     \u001b[0;32mtry\u001b[0m\u001b[0;34m:\u001b[0m\u001b[0;34m\u001b[0m\u001b[0;34m\u001b[0m\u001b[0m\n\u001b[0;32m-> 1299\u001b[0;31m       \u001b[0mobject_graph_string\u001b[0m \u001b[0;34m=\u001b[0m \u001b[0mreader\u001b[0m\u001b[0;34m.\u001b[0m\u001b[0mget_tensor\u001b[0m\u001b[0;34m(\u001b[0m\u001b[0mbase\u001b[0m\u001b[0;34m.\u001b[0m\u001b[0mOBJECT_GRAPH_PROTO_KEY\u001b[0m\u001b[0;34m)\u001b[0m\u001b[0;34m\u001b[0m\u001b[0;34m\u001b[0m\u001b[0m\n\u001b[0m\u001b[1;32m   1300\u001b[0m     \u001b[0;32mexcept\u001b[0m \u001b[0merrors_impl\u001b[0m\u001b[0;34m.\u001b[0m\u001b[0mNotFoundError\u001b[0m\u001b[0;34m:\u001b[0m\u001b[0;34m\u001b[0m\u001b[0;34m\u001b[0m\u001b[0m\n\u001b[1;32m   1301\u001b[0m       \u001b[0;31m# The object graph proto does not exist in this checkpoint. Try the\u001b[0m\u001b[0;34m\u001b[0m\u001b[0;34m\u001b[0m\u001b[0;34m\u001b[0m\u001b[0m\n",
            "\u001b[0;32m/usr/local/lib/python3.7/dist-packages/tensorflow/python/training/py_checkpoint_reader.py\u001b[0m in \u001b[0;36mget_tensor\u001b[0;34m(self, tensor_str)\u001b[0m\n\u001b[1;32m     68\u001b[0m   \u001b[0;32mtry\u001b[0m\u001b[0;34m:\u001b[0m\u001b[0;34m\u001b[0m\u001b[0;34m\u001b[0m\u001b[0m\n\u001b[1;32m     69\u001b[0m     return CheckpointReader.CheckpointReader_GetTensor(\n\u001b[0;32m---> 70\u001b[0;31m         self, compat.as_bytes(tensor_str))\n\u001b[0m\u001b[1;32m     71\u001b[0m   \u001b[0;31m# TODO(b/143319754): Remove the RuntimeError casting logic once we resolve the\u001b[0m\u001b[0;34m\u001b[0m\u001b[0;34m\u001b[0m\u001b[0;34m\u001b[0m\u001b[0m\n\u001b[1;32m     72\u001b[0m   \u001b[0;31m# issue with throwing python exceptions from C++.\u001b[0m\u001b[0;34m\u001b[0m\u001b[0;34m\u001b[0m\u001b[0;34m\u001b[0m\u001b[0m\n",
            "\u001b[0;31mIndexError\u001b[0m: Read less bytes than requested"
          ]
        }
      ]
    },
    {
      "cell_type": "markdown",
      "metadata": {
        "id": "aRiMVY6SuYci"
      },
      "source": [
        "# **6 TESTING THE MODEL**"
      ]
    },
    {
      "cell_type": "markdown",
      "metadata": {
        "id": "ZduMwQ8o3Ouq"
      },
      "source": [
        "### **6.1 SIMPLE SINGLE DATA CHECKING**"
      ]
    },
    {
      "cell_type": "markdown",
      "metadata": {
        "id": "V93NWk0Qi9tr"
      },
      "source": [
        "<html>\n",
        "<head>\n",
        "<h1>SoftMax Activation Function on Categorical Ouput Data</b></h1>\n",
        "\n",
        "<img src=\"https://i.ibb.co/HhM6t8z/softmax.webp\" alt=\"softmax\" border=\"0\">\n",
        "<img src=\"https://i.ibb.co/Fs8vKnS/softmax-activation-function.jpg\" alt=\"softmax-activation-function\" border=\"0\">\n",
        "</head>\n",
        "\n",
        "<html>"
      ]
    },
    {
      "cell_type": "code",
      "metadata": {
        "colab": {
          "base_uri": "https://localhost:8080/"
        },
        "id": "oM1Y9GqAIift",
        "outputId": "36a8c216-a998-45a3-d237-ce05c15d5479"
      },
      "source": [
        "x_test = []\n",
        "comparison_point = -5356\n",
        "for x in range(seq_length_categorical,len(dpriceVector[0:comparison_point])):\n",
        "  x_test.append(dpriceVector[x-seq_length_categorical:x])\n",
        "x_test = np.array(x_test)\n",
        "x_test = np.reshape(x_test, (x_test.shape[0], x_test.shape[1], 1))\n",
        "predicted_price_movements = model.predict(x_test)\n",
        "softmax_results = tf.nn.softmax(predicted_price_movements)\n",
        "print(softmax_results[-1])\n",
        "predicted_move = tf.random.categorical(predicted_price_movements, num_samples=1)[-1,0].numpy()\n",
        "print(predicted_move)\n",
        "print(dpriceVector[comparison_point - 1])\n",
        "# FOR REFERENCE\n",
        "#0 - Big Move Down (:-2]\n",
        "#1 - Medium Move Down (-2:-0.75]\n",
        "#2 - Small Move Down (-0.75:0)\n",
        "#3 - Small Move Up (0:0.75) \n",
        "#4 - Medium Move Up [0.75:2)\n",
        "#5 - Big Move Up [2:)\n",
        "#6 - No Movement"
      ],
      "execution_count": null,
      "outputs": [
        {
          "output_type": "stream",
          "text": [
            "tf.Tensor(\n",
            "[8.5012972e-02 8.8218480e-01 3.3901681e-03 2.1644976e-02 7.4516595e-03\n",
            " 2.9120027e-04 2.4225377e-05], shape=(7,), dtype=float32)\n",
            "0\n",
            "-0.10174\n"
          ],
          "name": "stdout"
        }
      ]
    },
    {
      "cell_type": "markdown",
      "metadata": {
        "id": "1--VBB_05gqV"
      },
      "source": [
        "### **6.2 ACCURACY SCRIPT - LOOPING THROUGH TEST DATA**"
      ]
    },
    {
      "cell_type": "code",
      "metadata": {
        "id": "HhGR__tGot1T"
      },
      "source": [
        "x_test = []\n",
        "y_pred = []\n",
        "y_true = []\n",
        "high_cutoff = 0.97*np.std(trainingData)\n",
        "medium_cutoff = 0.35*np.std(trainingData)\n",
        "for x in range(seq_length_categorical,len(dpriceVector)):\n",
        "  x_test.append(dpriceVector[x-seq_length_categorical:x])\n",
        "for x in range(0, testData_len):\n",
        "  if testData[x] <= -high_cutoff:\n",
        "    y_true.append(0)\n",
        "  elif testData[x] <= -medium_cutoff and testData[x] > -high_cutoff:\n",
        "    y_true.append(1)\n",
        "  elif testData[x] < 0 and testData[x] > -medium_cutoff:\n",
        "    y_true.append(2)\n",
        "  elif testData[x] > 0 and testData[x] < medium_cutoff:\n",
        "    y_true.append(3)\n",
        "  elif testData[x] >= medium_cutoff and testData[x] < high_cutoff:\n",
        "    y_true.append(4)\n",
        "  elif testData[x] >= high_cutoff:\n",
        "    y_true.append(5)\n",
        "  else:\n",
        "    y_true.append(6)\n",
        "x_test = np.array(x_test)\n",
        "x_test = np.reshape(x_test, (x_test.shape[0], x_test.shape[1], 1))\n",
        "predicted_price_movements = model.predict(x_test)\n",
        "raw_test_predictions = predicted_price_movements[(split_point-seq_length_categorical):]\n",
        "y_pred = [tf.random.categorical([predicted_category], num_samples=1).numpy() for predicted_category in raw_test_predictions]"
      ],
      "execution_count": null,
      "outputs": []
    },
    {
      "cell_type": "markdown",
      "metadata": {
        "id": "Mvbnn12Y1RFs"
      },
      "source": [
        "### **6.3 CONFIDENCE PREDICTIONS**"
      ]
    },
    {
      "cell_type": "markdown",
      "metadata": {
        "id": "UX66xzvR3TSG"
      },
      "source": [
        "To utilize the confidence metric produced by the model for each prediction, we run a script to build a predicted array of predictions with >90% confidence and see if has better accuracy than trying to predict the next price at every price point. To this effect, it would be much more useful as a trading tool that could be used alongside other indicators to predict where the market is heading."
      ]
    },
    {
      "cell_type": "code",
      "metadata": {
        "id": "d5P_xxO51bmE"
      },
      "source": [
        "x_test = []\n",
        "y_pred = []\n",
        "y_true_full = []\n",
        "y_true = []\n",
        "high_cutoff = 0.97*np.std(trainingData)\n",
        "medium_cutoff = 0.35*np.std(trainingData)\n",
        "for x in range(seq_length_categorical,len(dpriceVector)):\n",
        "  x_test.append(dpriceVector[x-seq_length_categorical:x])\n",
        "for x in range(0, testData_len):\n",
        "  if testData[x] <= -high_cutoff:\n",
        "    y_true_full.append(0)\n",
        "  elif testData[x] <= -medium_cutoff and testData[x] > -high_cutoff:\n",
        "    y_true_full.append(1)\n",
        "  elif testData[x] < 0 and testData[x] > -medium_cutoff:\n",
        "    y_true_full.append(2)\n",
        "  elif testData[x] > 0 and testData[x] < medium_cutoff:\n",
        "    y_true_full.append(3)\n",
        "  elif testData[x] >= medium_cutoff and testData[x] < high_cutoff:\n",
        "    y_true_full.append(4)\n",
        "  elif testData[x] >= high_cutoff:\n",
        "    y_true_full.append(5)\n",
        "  else:\n",
        "    y_true_full.append(6)\n",
        "x_test = np.array(x_test)\n",
        "x_test = np.reshape(x_test, (x_test.shape[0], x_test.shape[1], 1))\n",
        "predicted_price_movements = model.predict(x_test)\n",
        "raw_test_predictions = predicted_price_movements[(split_point-seq_length_categorical):]\n",
        "softmaxed_predictions = tf.nn.softmax(raw_test_predictions)\n",
        "for i in range(0,len(softmaxed_predictions)):\n",
        "  if (np.amax(softmaxed_predictions[i]) > 0.90):\n",
        "    y_pred.append(tf.random.categorical([softmaxed_predictions[i]], num_samples=1).numpy())\n",
        "    y_true.append(y_true_full[i])"
      ],
      "execution_count": null,
      "outputs": []
    },
    {
      "cell_type": "markdown",
      "metadata": {
        "id": "L7U27WA85tNU"
      },
      "source": [
        "### **6.3 MODEL ACCURACY**"
      ]
    },
    {
      "cell_type": "code",
      "metadata": {
        "colab": {
          "base_uri": "https://localhost:8080/"
        },
        "id": "SsfCAQf0P-ZW",
        "outputId": "3ae2ac16-814b-473a-ff49-4bc76cdaba2d"
      },
      "source": [
        "#MODEL ACCURACY\n",
        "num_correct = 0;\n",
        "for i in range(0, len(y_pred)):\n",
        "  if y_pred[i] == y_true[i]:\n",
        "    num_correct +=1 \n",
        "\n",
        "print(\"TOTAL CORRECT:\",num_correct)\n",
        "print(\"TOTAL DATA:\", len(y_pred))\n",
        "print(\"Accuracy:\", num_correct/len(y_pred))\n",
        "\n",
        "#RANDOM CHOICE ACCURACY\n",
        "num_correct = 0;\n",
        "for i in range(0,len(y_pred)):\n",
        "  if y_true[i] == random.randint(0,6):\n",
        "    num_correct += 1\n",
        "print(\"TOTAL CORRECT:\",num_correct)\n",
        "print(\"TOTAL DATA:\", len(y_pred))\n",
        "print(\"Accuracy:\", num_correct/len(y_pred))"
      ],
      "execution_count": null,
      "outputs": [
        {
          "output_type": "stream",
          "text": [
            "TOTAL CORRECT: 164\n",
            "TOTAL DATA: 1070\n",
            "Accuracy: 0.15327102803738318\n",
            "TOTAL CORRECT: 139\n",
            "TOTAL DATA: 1070\n",
            "Accuracy: 0.12990654205607477\n"
          ],
          "name": "stdout"
        }
      ]
    },
    {
      "cell_type": "markdown",
      "metadata": {
        "id": "bHeNniPuxs8Q"
      },
      "source": [
        "### **6.4 CONFUSION MATRIX AND OTHER METRICS**"
      ]
    },
    {
      "cell_type": "code",
      "metadata": {
        "colab": {
          "base_uri": "https://localhost:8080/",
          "height": 561
        },
        "id": "9p_qTNW1308U",
        "outputId": "44e9a921-5373-4236-b8f9-a3b44f596692"
      },
      "source": [
        "cf_matrix = confusion_matrix(y_true, np.squeeze(y_pred))\n",
        "sns.heatmap(cf_matrix, annot=True)\n",
        "print(classification_report(y_true, np.squeeze(y_pred)))"
      ],
      "execution_count": null,
      "outputs": [
        {
          "output_type": "stream",
          "text": [
            "/usr/local/lib/python3.7/dist-packages/sklearn/metrics/_classification.py:1272: UndefinedMetricWarning: Recall and F-score are ill-defined and being set to 0.0 in labels with no true samples. Use `zero_division` parameter to control this behavior.\n",
            "  _warn_prf(average, modifier, msg_start, len(result))\n"
          ],
          "name": "stderr"
        },
        {
          "output_type": "stream",
          "text": [
            "              precision    recall  f1-score   support\n",
            "\n",
            "           0       0.25      0.25      0.25         4\n",
            "           1       0.17      0.18      0.17        11\n",
            "           2       0.17      0.09      0.12        11\n",
            "           3       0.00      0.00      0.00        10\n",
            "           4       0.38      0.27      0.32        11\n",
            "           5       0.00      0.00      0.00         4\n",
            "           6       0.00      0.00      0.00         0\n",
            "\n",
            "    accuracy                           0.14        51\n",
            "   macro avg       0.14      0.11      0.12        51\n",
            "weighted avg       0.17      0.14      0.15        51\n",
            "\n"
          ],
          "name": "stdout"
        },
        {
          "output_type": "display_data",
          "data": {
            "image/png": "[encoded data removed]",
            "text/plain": [
              "<Figure size 432x288 with 2 Axes>"
            ]
          },
          "metadata": {
            "tags": [],
            "needs_background": "light"
          }
        }
      ]
    }
  ]
}